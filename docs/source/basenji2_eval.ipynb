{
 "cells": [
  {
   "cell_type": "markdown",
   "metadata": {},
   "source": [
    "# Evaluate Basenji2 for personal gene expression"
   ]
  },
  {
   "cell_type": "markdown",
   "metadata": {},
   "source": [
    "Here we will reproduce the results from [Huang et al. 2023](https://www.nature.com/articles/s41588-023-01574-w). All the steps here exactly match the steps in the original paper except for the 1 bp jittering and forward and reverse complementing of the haplotypes, which make no apparent difference to the results and will save us quite a bit of time.\n",
    "\n",
    "Even with with this time-saving simplification, processing all 3,259 eGenes from [Lappalainen et al. 2013](https://www.nature.com/articles/nature12531) may take hours to days to run depending on your GPU. Thus, we'll just use the first 100 genes for this tutorial which should run in a few minutes. If you do not have a GPU, we recommend skipping this tutorial as Basenji2 is prohibitively slow without one."
   ]
  },
  {
   "cell_type": "code",
   "execution_count": 1,
   "metadata": {},
   "outputs": [
    {
     "name": "stderr",
     "output_type": "stream",
     "text": [
      "/carter/users/dlaub/projects/GenVarLoader/.pixi/envs/docs-gpu/lib/python3.12/site-packages/sorted_nearest/__init__.py:1: UserWarning: pkg_resources is deprecated as an API. See https://setuptools.pypa.io/en/latest/pkg_resources.html. The pkg_resources package is slated for removal as early as 2025-11-30. Refrain from using this package or pin to Setuptools<81.\n",
      "  import pkg_resources\n"
     ]
    }
   ],
   "source": [
    "from math import log\n",
    "\n",
    "import genvarloader as gvl\n",
    "import matplotlib.pyplot as plt\n",
    "import numpy as np\n",
    "import polars.selectors as cs\n",
    "import polars as pl\n",
    "import scipy.stats as st\n",
    "import seaborn as sns\n",
    "import seqpro as sp\n",
    "import torch\n",
    "from basenji2_pytorch import Basenji2, basenji2_params, basenji2_weights\n",
    "from einops import rearrange\n",
    "from genoray import PGEN\n",
    "from genoray.exprs import is_snp, is_biallelic\n",
    "from tqdm.auto import tqdm"
   ]
  },
  {
   "cell_type": "markdown",
   "metadata": {},
   "source": [
    "Here, we'll use GenVarLoader's [data registry](https://genvarloader.readthedocs.io/en/latest/api.html#genvarloader.data_registry.fetch) to fetch all the relevant files for the Geuvadis dataset:\n",
    "- A list of eGenes and their TSS coordinates from [Lappalainen et al. 2013](https://www.nature.com/articles/nature12531)\n",
    "- Gene expression from Geuvadis\n",
    "- A PGEN file of phased and unphased 1,000 Genomes genotypes for 465 individuals\n",
    "- A table of sample IDs that are phased\n",
    "- A table annotating the tracks (targets) that Basenji2 outputs"
   ]
  },
  {
   "cell_type": "code",
   "execution_count": 2,
   "metadata": {},
   "outputs": [],
   "source": [
    "ds_path = input(\"Dataset path (should end in .gvl): \")\n",
    "pred_path = input(\"Prediction path (should end in .npy): \")\n",
    "basenji2_in_len = 2**17\n",
    "basenji2_out_len = 896\n",
    "paths = gvl.data_registry.fetch(\"geuvadis_ebi\")\n",
    "samples = pl.read_csv(paths[\"samples\"], separator=\"\\t\").to_series().to_list()"
   ]
  },
  {
   "cell_type": "code",
   "execution_count": 3,
   "metadata": {},
   "outputs": [
    {
     "data": {
      "text/html": [
       "<div><style>\n",
       ".dataframe > thead > tr,\n",
       ".dataframe > tbody > tr {\n",
       "  text-align: right;\n",
       "  white-space: pre-wrap;\n",
       "}\n",
       "</style>\n",
       "<small>shape: (5, 5)</small><table border=\"1\" class=\"dataframe\"><thead><tr><th>gene_id</th><th>chrom</th><th>chromStart</th><th>hgnc</th><th>strand</th></tr><tr><td>str</td><td>i64</td><td>i64</td><td>str</td><td>str</td></tr></thead><tbody><tr><td>&quot;ENSG00000000457&quot;</td><td>1</td><td>169863408</td><td>&quot;SCYL3&quot;</td><td>&quot;-&quot;</td></tr><tr><td>&quot;ENSG00000001630&quot;</td><td>7</td><td>91772266</td><td>&quot;CYP51A1&quot;</td><td>&quot;-&quot;</td></tr><tr><td>&quot;ENSG00000002549&quot;</td><td>4</td><td>17578815</td><td>&quot;LAP3&quot;</td><td>&quot;+&quot;</td></tr><tr><td>&quot;ENSG00000002745&quot;</td><td>7</td><td>120965421</td><td>&quot;WNT16&quot;</td><td>&quot;+&quot;</td></tr><tr><td>&quot;ENSG00000003056&quot;</td><td>12</td><td>9102551</td><td>&quot;M6PR&quot;</td><td>&quot;-&quot;</td></tr></tbody></table></div>"
      ],
      "text/plain": [
       "shape: (5, 5)\n",
       "┌─────────────────┬───────┬────────────┬─────────┬────────┐\n",
       "│ gene_id         ┆ chrom ┆ chromStart ┆ hgnc    ┆ strand │\n",
       "│ ---             ┆ ---   ┆ ---        ┆ ---     ┆ ---    │\n",
       "│ str             ┆ i64   ┆ i64        ┆ str     ┆ str    │\n",
       "╞═════════════════╪═══════╪════════════╪═════════╪════════╡\n",
       "│ ENSG00000000457 ┆ 1     ┆ 169863408  ┆ SCYL3   ┆ -      │\n",
       "│ ENSG00000001630 ┆ 7     ┆ 91772266   ┆ CYP51A1 ┆ -      │\n",
       "│ ENSG00000002549 ┆ 4     ┆ 17578815   ┆ LAP3    ┆ +      │\n",
       "│ ENSG00000002745 ┆ 7     ┆ 120965421  ┆ WNT16   ┆ +      │\n",
       "│ ENSG00000003056 ┆ 12    ┆ 9102551    ┆ M6PR    ┆ -      │\n",
       "└─────────────────┴───────┴────────────┴─────────┴────────┘"
      ]
     },
     "execution_count": 3,
     "metadata": {},
     "output_type": "execute_result"
    }
   ],
   "source": [
    "genes = pl.read_csv(\n",
    "    paths[\"genes\"],\n",
    "    has_header=False,\n",
    "    new_columns=[\"gene_id\", \"chrom\", \"chromStart\", \"hgnc\", \"strand\"],\n",
    ")\n",
    "genes.head()"
   ]
  },
  {
   "cell_type": "code",
   "execution_count": 43,
   "metadata": {},
   "outputs": [
    {
     "data": {
      "text/html": [
       "<div><style>\n",
       ".dataframe > thead > tr,\n",
       ".dataframe > tbody > tr {\n",
       "  text-align: right;\n",
       "  white-space: pre-wrap;\n",
       "}\n",
       "</style>\n",
       "<small>shape: (5, 421)</small><table border=\"1\" class=\"dataframe\"><thead><tr><th>gene_id</th><th>HG00097</th><th>HG00099</th><th>HG00100</th><th>HG00101</th><th>HG00102</th><th>HG00103</th><th>HG00104</th><th>HG00106</th><th>HG00108</th><th>HG00109</th><th>HG00110</th><th>HG00111</th><th>HG00112</th><th>HG00114</th><th>HG00116</th><th>HG00117</th><th>HG00118</th><th>HG00119</th><th>HG00120</th><th>HG00121</th><th>HG00122</th><th>HG00123</th><th>HG00124</th><th>HG00125</th><th>HG00126</th><th>HG00127</th><th>HG00128</th><th>HG00129</th><th>HG00130</th><th>HG00131</th><th>HG00133</th><th>HG00134</th><th>HG00135</th><th>HG00136</th><th>HG00137</th><th>HG00138</th><th>&hellip;</th><th>NA20770</th><th>NA20771</th><th>NA20772</th><th>NA20773</th><th>NA20774</th><th>NA20778</th><th>NA20783</th><th>NA20785</th><th>NA20786</th><th>NA20787</th><th>NA20790</th><th>NA20792</th><th>NA20795</th><th>NA20796</th><th>NA20797</th><th>NA20798</th><th>NA20799</th><th>NA20800</th><th>NA20801</th><th>NA20802</th><th>NA20803</th><th>NA20804</th><th>NA20805</th><th>NA20806</th><th>NA20807</th><th>NA20808</th><th>NA20809</th><th>NA20810</th><th>NA20811</th><th>NA20812</th><th>NA20813</th><th>NA20814</th><th>NA20815</th><th>NA20816</th><th>NA20819</th><th>NA20826</th><th>NA20828</th></tr><tr><td>str</td><td>f64</td><td>f64</td><td>f64</td><td>f64</td><td>f64</td><td>f64</td><td>f64</td><td>f64</td><td>f64</td><td>f64</td><td>f64</td><td>f64</td><td>f64</td><td>f64</td><td>f64</td><td>f64</td><td>f64</td><td>f64</td><td>f64</td><td>f64</td><td>f64</td><td>f64</td><td>f64</td><td>f64</td><td>f64</td><td>f64</td><td>f64</td><td>f64</td><td>f64</td><td>f64</td><td>f64</td><td>f64</td><td>f64</td><td>f64</td><td>f64</td><td>f64</td><td>&hellip;</td><td>f64</td><td>f64</td><td>f64</td><td>f64</td><td>f64</td><td>f64</td><td>f64</td><td>f64</td><td>f64</td><td>f64</td><td>f64</td><td>f64</td><td>f64</td><td>f64</td><td>f64</td><td>f64</td><td>f64</td><td>f64</td><td>f64</td><td>f64</td><td>f64</td><td>f64</td><td>f64</td><td>f64</td><td>f64</td><td>f64</td><td>f64</td><td>f64</td><td>f64</td><td>f64</td><td>f64</td><td>f64</td><td>f64</td><td>f64</td><td>f64</td><td>f64</td><td>f64</td></tr></thead><tbody><tr><td>&quot;ENSG00000000457&quot;</td><td>2.883367</td><td>1.834309</td><td>2.64608</td><td>2.585935</td><td>2.34584</td><td>2.925417</td><td>2.65781</td><td>2.789464</td><td>2.444504</td><td>2.75724</td><td>2.925114</td><td>2.680441</td><td>2.913031</td><td>2.689902</td><td>2.998056</td><td>2.697751</td><td>2.766225</td><td>3.042996</td><td>2.592133</td><td>2.867706</td><td>2.805805</td><td>2.765552</td><td>3.013281</td><td>2.484207</td><td>2.903942</td><td>2.904265</td><td>2.641283</td><td>2.685263</td><td>2.665948</td><td>3.092614</td><td>2.709707</td><td>2.602347</td><td>2.754889</td><td>3.092115</td><td>2.83426</td><td>2.444628</td><td>&hellip;</td><td>2.794595</td><td>2.784521</td><td>2.976292</td><td>2.700462</td><td>2.405552</td><td>2.506383</td><td>3.117941</td><td>3.252319</td><td>2.96167</td><td>2.72472</td><td>2.819782</td><td>3.059721</td><td>2.820945</td><td>2.876582</td><td>2.569356</td><td>3.077712</td><td>2.897556</td><td>2.628595</td><td>2.436556</td><td>2.437954</td><td>2.667586</td><td>2.787217</td><td>2.868959</td><td>2.551098</td><td>2.860837</td><td>2.700339</td><td>2.69241</td><td>2.745681</td><td>2.660285</td><td>2.554025</td><td>2.998785</td><td>2.825764</td><td>2.686573</td><td>2.872107</td><td>2.979091</td><td>2.894534</td><td>2.933071</td></tr><tr><td>&quot;ENSG00000001630&quot;</td><td>4.969557</td><td>4.224181</td><td>4.976058</td><td>5.218726</td><td>5.182351</td><td>4.767849</td><td>5.413671</td><td>4.758416</td><td>5.097579</td><td>5.25007</td><td>5.123745</td><td>5.073436</td><td>5.249919</td><td>5.124941</td><td>5.129572</td><td>5.13768</td><td>5.046579</td><td>5.088643</td><td>5.319505</td><td>4.862542</td><td>5.124061</td><td>4.70492</td><td>4.88879</td><td>4.696655</td><td>4.808061</td><td>4.801197</td><td>4.939249</td><td>5.109147</td><td>5.146362</td><td>5.185362</td><td>5.034132</td><td>5.057867</td><td>5.156479</td><td>5.437459</td><td>5.094595</td><td>5.130883</td><td>&hellip;</td><td>5.312725</td><td>5.104296</td><td>5.040871</td><td>4.911511</td><td>5.040483</td><td>5.20505</td><td>4.880228</td><td>4.601109</td><td>4.928203</td><td>5.244682</td><td>4.964349</td><td>5.099042</td><td>5.40614</td><td>5.257256</td><td>4.523433</td><td>5.279652</td><td>4.843644</td><td>5.203806</td><td>5.06995</td><td>5.086101</td><td>5.17526</td><td>4.878176</td><td>5.143902</td><td>5.335128</td><td>5.132463</td><td>4.878686</td><td>5.056312</td><td>5.12613</td><td>5.195856</td><td>5.252959</td><td>5.390342</td><td>4.933299</td><td>4.928922</td><td>5.257504</td><td>5.356906</td><td>5.191717</td><td>5.075509</td></tr><tr><td>&quot;ENSG00000002549&quot;</td><td>6.579422</td><td>5.805355</td><td>6.826235</td><td>6.520504</td><td>6.818759</td><td>6.527228</td><td>6.858863</td><td>6.43286</td><td>6.822276</td><td>6.527388</td><td>6.735795</td><td>6.33409</td><td>6.855515</td><td>6.859368</td><td>5.567008</td><td>6.420919</td><td>6.488021</td><td>6.804768</td><td>6.539446</td><td>7.0783</td><td>6.773451</td><td>6.681058</td><td>7.04007</td><td>6.570902</td><td>6.607061</td><td>6.269434</td><td>6.653516</td><td>6.510893</td><td>6.644596</td><td>6.452672</td><td>6.897555</td><td>6.780814</td><td>6.569071</td><td>6.54277</td><td>6.882278</td><td>7.068692</td><td>&hellip;</td><td>6.493295</td><td>6.865757</td><td>6.602131</td><td>6.882519</td><td>6.302862</td><td>6.556039</td><td>6.584511</td><td>6.675576</td><td>6.38825</td><td>6.653772</td><td>6.680885</td><td>6.700284</td><td>6.742045</td><td>6.667749</td><td>6.524001</td><td>6.427709</td><td>6.583828</td><td>6.415492</td><td>6.575268</td><td>6.444256</td><td>6.485439</td><td>6.3251</td><td>6.396262</td><td>6.784344</td><td>6.644984</td><td>6.518831</td><td>6.666653</td><td>6.223493</td><td>6.621568</td><td>6.901742</td><td>6.665184</td><td>6.65501</td><td>6.765441</td><td>6.371931</td><td>6.612746</td><td>6.47355</td><td>6.548355</td></tr><tr><td>&quot;ENSG00000002745&quot;</td><td>0.192883</td><td>0.029851</td><td>0.195664</td><td>0.126503</td><td>0.297257</td><td>0.129629</td><td>0.021852</td><td>0.275263</td><td>0.071207</td><td>0.263726</td><td>0.131601</td><td>0.230152</td><td>0.156213</td><td>0.204568</td><td>0.040416</td><td>0.225189</td><td>0.111335</td><td>0.164453</td><td>0.20008</td><td>0.145553</td><td>0.200483</td><td>0.209593</td><td>0.359152</td><td>-0.049574</td><td>0.191282</td><td>0.021413</td><td>0.227732</td><td>0.276992</td><td>0.143957</td><td>0.091331</td><td>0.589119</td><td>-0.037316</td><td>0.233788</td><td>0.993584</td><td>0.187406</td><td>0.291823</td><td>&hellip;</td><td>0.131191</td><td>0.100634</td><td>0.241065</td><td>0.097617</td><td>0.034683</td><td>0.077639</td><td>0.123341</td><td>0.08147</td><td>0.170642</td><td>0.085312</td><td>-0.027111</td><td>0.084868</td><td>0.537418</td><td>0.064881</td><td>0.057349</td><td>0.127728</td><td>0.128894</td><td>0.836652</td><td>0.034484</td><td>0.134283</td><td>0.151141</td><td>0.313646</td><td>0.01313</td><td>0.01391</td><td>0.463116</td><td>0.252047</td><td>0.06253</td><td>0.177781</td><td>0.392925</td><td>0.252537</td><td>0.07996</td><td>0.08126</td><td>0.14503</td><td>0.131564</td><td>-0.038256</td><td>0.073507</td><td>-0.062844</td></tr><tr><td>&quot;ENSG00000003056&quot;</td><td>6.664455</td><td>5.774003</td><td>6.621526</td><td>6.600959</td><td>6.868067</td><td>6.685243</td><td>6.656745</td><td>6.68273</td><td>6.585196</td><td>6.805682</td><td>6.768248</td><td>6.805896</td><td>7.043169</td><td>6.600454</td><td>6.652283</td><td>6.648638</td><td>6.907678</td><td>6.852528</td><td>6.939126</td><td>6.661728</td><td>6.610243</td><td>6.842894</td><td>6.705818</td><td>6.049611</td><td>7.000083</td><td>6.702603</td><td>6.49256</td><td>6.901974</td><td>6.533254</td><td>6.632719</td><td>6.696538</td><td>6.826387</td><td>6.803077</td><td>6.591067</td><td>6.601555</td><td>6.695223</td><td>&hellip;</td><td>6.829099</td><td>6.897351</td><td>6.992783</td><td>6.643068</td><td>6.48466</td><td>6.348297</td><td>6.941982</td><td>6.788952</td><td>6.922804</td><td>6.946785</td><td>6.239979</td><td>6.820033</td><td>6.74771</td><td>6.558058</td><td>6.517936</td><td>6.674047</td><td>6.696774</td><td>6.479763</td><td>6.708801</td><td>6.477054</td><td>6.400093</td><td>7.030301</td><td>6.608396</td><td>6.698758</td><td>6.190337</td><td>6.861345</td><td>6.815563</td><td>6.796029</td><td>7.081206</td><td>6.910327</td><td>6.565901</td><td>6.666187</td><td>6.484757</td><td>6.8308</td><td>6.826336</td><td>6.574483</td><td>6.77982</td></tr></tbody></table></div>"
      ],
      "text/plain": [
       "shape: (5, 421)\n",
       "┌───────────────┬──────────┬──────────┬──────────┬───┬──────────┬───────────┬──────────┬───────────┐\n",
       "│ gene_id       ┆ HG00097  ┆ HG00099  ┆ HG00100  ┆ … ┆ NA20816  ┆ NA20819   ┆ NA20826  ┆ NA20828   │\n",
       "│ ---           ┆ ---      ┆ ---      ┆ ---      ┆   ┆ ---      ┆ ---       ┆ ---      ┆ ---       │\n",
       "│ str           ┆ f64      ┆ f64      ┆ f64      ┆   ┆ f64      ┆ f64       ┆ f64      ┆ f64       │\n",
       "╞═══════════════╪══════════╪══════════╪══════════╪═══╪══════════╪═══════════╪══════════╪═══════════╡\n",
       "│ ENSG000000004 ┆ 2.883367 ┆ 1.834309 ┆ 2.64608  ┆ … ┆ 2.872107 ┆ 2.979091  ┆ 2.894534 ┆ 2.933071  │\n",
       "│ 57            ┆          ┆          ┆          ┆   ┆          ┆           ┆          ┆           │\n",
       "│ ENSG000000016 ┆ 4.969557 ┆ 4.224181 ┆ 4.976058 ┆ … ┆ 5.257504 ┆ 5.356906  ┆ 5.191717 ┆ 5.075509  │\n",
       "│ 30            ┆          ┆          ┆          ┆   ┆          ┆           ┆          ┆           │\n",
       "│ ENSG000000025 ┆ 6.579422 ┆ 5.805355 ┆ 6.826235 ┆ … ┆ 6.371931 ┆ 6.612746  ┆ 6.47355  ┆ 6.548355  │\n",
       "│ 49            ┆          ┆          ┆          ┆   ┆          ┆           ┆          ┆           │\n",
       "│ ENSG000000027 ┆ 0.192883 ┆ 0.029851 ┆ 0.195664 ┆ … ┆ 0.131564 ┆ -0.038256 ┆ 0.073507 ┆ -0.062844 │\n",
       "│ 45            ┆          ┆          ┆          ┆   ┆          ┆           ┆          ┆           │\n",
       "│ ENSG000000030 ┆ 6.664455 ┆ 5.774003 ┆ 6.621526 ┆ … ┆ 6.8308   ┆ 6.826336  ┆ 6.574483 ┆ 6.77982   │\n",
       "│ 56            ┆          ┆          ┆          ┆   ┆          ┆           ┆          ┆           │\n",
       "└───────────────┴──────────┴──────────┴──────────┴───┴──────────┴───────────┴──────────┴───────────┘"
      ]
     },
     "execution_count": 43,
     "metadata": {},
     "output_type": "execute_result"
    }
   ],
   "source": [
    "expr = (\n",
    "    pl.read_csv(paths[\"expr\"], separator=\"\\t\")\n",
    "    .rename({\"TargetID\": \"gene_id\"})\n",
    "    .drop(\"Gene_Symbol\", \"Chr\", \"Coord\")\n",
    "    .with_columns(\n",
    "        pl.col(\"gene_id\").str.split(\".\").list.get(0),\n",
    "        cs.numeric().log1p() / log(2),  # log2(RPKM + 1)\n",
    "    )\n",
    "    .join(genes, \"gene_id\")\n",
    "    .sort(\"gene_id\")\n",
    "    .select(\"gene_id\", *samples)\n",
    ")\n",
    "expr.head()"
   ]
  },
  {
   "cell_type": "markdown",
   "metadata": {},
   "source": [
    "The genotypes from Geuvadis include some structural and multiallelic variants which we will filter out. To match Huang et al.'s analysis, we will also filter out indels despite the fact that GenVarLoader supports them."
   ]
  },
  {
   "cell_type": "code",
   "execution_count": null,
   "metadata": {},
   "outputs": [
    {
     "name": "stderr",
     "output_type": "stream",
     "text": [
      "\u001b[32m2025-06-05 10:28:24.258\u001b[0m | \u001b[1mINFO    \u001b[0m | \u001b[36mgenoray._pgen\u001b[0m:\u001b[36m_read_index\u001b[0m:\u001b[36m1164\u001b[0m - \u001b[1mLoading genoray index.\u001b[0m\n"
     ]
    },
    {
     "data": {
      "text/html": [
       "<div><style>\n",
       ".dataframe > thead > tr,\n",
       ".dataframe > tbody > tr {\n",
       "  text-align: right;\n",
       "  white-space: pre-wrap;\n",
       "}\n",
       "</style>\n",
       "<small>shape: (5, 6)</small><table border=\"1\" class=\"dataframe\"><thead><tr><th>gene_id</th><th>chrom</th><th>chromStart</th><th>hgnc</th><th>strand</th><th>chromEnd</th></tr><tr><td>str</td><td>str</td><td>i64</td><td>str</td><td>str</td><td>i64</td></tr></thead><tbody><tr><td>&quot;ENSG00000000457&quot;</td><td>&quot;1&quot;</td><td>169797872</td><td>&quot;SCYL3&quot;</td><td>&quot;-&quot;</td><td>169928944</td></tr><tr><td>&quot;ENSG00000001630&quot;</td><td>&quot;7&quot;</td><td>91706730</td><td>&quot;CYP51A1&quot;</td><td>&quot;-&quot;</td><td>91837802</td></tr><tr><td>&quot;ENSG00000002549&quot;</td><td>&quot;4&quot;</td><td>17513279</td><td>&quot;LAP3&quot;</td><td>&quot;+&quot;</td><td>17644351</td></tr><tr><td>&quot;ENSG00000002745&quot;</td><td>&quot;7&quot;</td><td>120899885</td><td>&quot;WNT16&quot;</td><td>&quot;+&quot;</td><td>121030957</td></tr><tr><td>&quot;ENSG00000003056&quot;</td><td>&quot;12&quot;</td><td>9037015</td><td>&quot;M6PR&quot;</td><td>&quot;-&quot;</td><td>9168087</td></tr></tbody></table></div>"
      ],
      "text/plain": [
       "shape: (5, 6)\n",
       "┌─────────────────┬───────┬────────────┬─────────┬────────┬───────────┐\n",
       "│ gene_id         ┆ chrom ┆ chromStart ┆ hgnc    ┆ strand ┆ chromEnd  │\n",
       "│ ---             ┆ ---   ┆ ---        ┆ ---     ┆ ---    ┆ ---       │\n",
       "│ str             ┆ str   ┆ i64        ┆ str     ┆ str    ┆ i64       │\n",
       "╞═════════════════╪═══════╪════════════╪═════════╪════════╪═══════════╡\n",
       "│ ENSG00000000457 ┆ 1     ┆ 169797872  ┆ SCYL3   ┆ -      ┆ 169928944 │\n",
       "│ ENSG00000001630 ┆ 7     ┆ 91706730   ┆ CYP51A1 ┆ -      ┆ 91837802  │\n",
       "│ ENSG00000002549 ┆ 4     ┆ 17513279   ┆ LAP3    ┆ +      ┆ 17644351  │\n",
       "│ ENSG00000002745 ┆ 7     ┆ 120899885  ┆ WNT16   ┆ +      ┆ 121030957 │\n",
       "│ ENSG00000003056 ┆ 12    ┆ 9037015    ┆ M6PR    ┆ -      ┆ 9168087   │\n",
       "└─────────────────┴───────┴────────────┴─────────┴────────┴───────────┘"
      ]
     },
     "execution_count": 5,
     "metadata": {},
     "output_type": "execute_result"
    }
   ],
   "source": [
    "pgen = PGEN(\n",
    "    paths[\"pgen\"], filter=is_snp & is_biallelic & ~pl.col(\"ID\").str.starts_with(\"sv\")\n",
    ")\n",
    "\n",
    "bed = gvl.with_length(\n",
    "    genes.with_columns(chromEnd=pl.col(\"chromStart\")), basenji2_in_len\n",
    ").with_columns(pl.col(\"chrom\").cast(pl.Utf8))\n",
    "bed.head()"
   ]
  },
  {
   "cell_type": "code",
   "execution_count": 9,
   "metadata": {},
   "outputs": [
    {
     "name": "stderr",
     "output_type": "stream",
     "text": [
      "\u001b[32m2025-06-05 10:29:40.346\u001b[0m | \u001b[1mINFO    \u001b[0m | \u001b[36mgenvarloader._dataset._write\u001b[0m:\u001b[36mwrite\u001b[0m:\u001b[36m75\u001b[0m - \u001b[1mWriting dataset to /cellar/users/dlaub/projects/GenVarLoader/data/geuvadis/ds.gvl\u001b[0m\n",
      "\u001b[32m2025-06-05 10:29:40.352\u001b[0m | \u001b[1mINFO    \u001b[0m | \u001b[36mgenvarloader._dataset._write\u001b[0m:\u001b[36mwrite\u001b[0m:\u001b[36m147\u001b[0m - \u001b[1mUsing 420 samples.\u001b[0m\n",
      "\u001b[32m2025-06-05 10:29:40.352\u001b[0m | \u001b[1mINFO    \u001b[0m | \u001b[36mgenvarloader._dataset._write\u001b[0m:\u001b[36mwrite\u001b[0m:\u001b[36m153\u001b[0m - \u001b[1mWriting genotypes.\u001b[0m\n"
     ]
    },
    {
     "data": {
      "application/vnd.jupyter.widget-view+json": {
       "model_id": "1f7a66ba1050460a930ac92e0b2041bd",
       "version_major": 2,
       "version_minor": 0
      },
      "text/plain": [
       "  0%|          | 0/100 [00:00<?, ? region/s]"
      ]
     },
     "metadata": {},
     "output_type": "display_data"
    },
    {
     "name": "stderr",
     "output_type": "stream",
     "text": [
      "\u001b[32m2025-06-05 10:29:47.391\u001b[0m | \u001b[33m\u001b[1mWARNING \u001b[0m | \u001b[36mgenvarloader._dataset._write\u001b[0m:\u001b[36m_write_from_pgen\u001b[0m:\u001b[36m397\u001b[0m - \u001b[33m\u001b[1mA region has no variants for any sample. This could be expected depending on the region lengths and source of variants. However, this can also be caused by a mismatch between the reference genome used for the BED file coordinates and the one used for the variants.\u001b[0m\n",
      "\u001b[32m2025-06-05 10:29:50.967\u001b[0m | \u001b[1mINFO    \u001b[0m | \u001b[36mgenvarloader._dataset._write\u001b[0m:\u001b[36mwrite\u001b[0m:\u001b[36m177\u001b[0m - \u001b[1mFinished writing.\u001b[0m\n"
     ]
    }
   ],
   "source": [
    "n_genes = 100\n",
    "assert n_genes > 0\n",
    "assert n_genes <= genes.height\n",
    "\n",
    "gvl.write(ds_path, bed[:n_genes], variants=pgen, samples=samples, overwrite=True)"
   ]
  },
  {
   "cell_type": "code",
   "execution_count": 10,
   "metadata": {},
   "outputs": [
    {
     "name": "stderr",
     "output_type": "stream",
     "text": [
      "\u001b[32m2025-06-05 10:29:51.034\u001b[0m | \u001b[1mINFO    \u001b[0m | \u001b[36mgenvarloader._dataset._impl\u001b[0m:\u001b[36mopen\u001b[0m:\u001b[36m191\u001b[0m - \u001b[1mLoading reference genome into memory. This typically has a modest memory footprint (a few GB) and greatly improves performance.\u001b[0m\n",
      "\u001b[32m2025-06-05 10:29:51.982\u001b[0m | \u001b[1mINFO    \u001b[0m | \u001b[36mgenvarloader._dataset._reconstruct\u001b[0m:\u001b[36mfrom_path\u001b[0m:\u001b[36m183\u001b[0m - \u001b[1mLoading variant data.\u001b[0m\n",
      "\u001b[32m2025-06-05 10:29:52.666\u001b[0m | \u001b[1mINFO    \u001b[0m | \u001b[36mgenvarloader._dataset._impl\u001b[0m:\u001b[36mopen\u001b[0m:\u001b[36m276\u001b[0m - \u001b[1mOpened dataset:\n",
      "GVL store at /cellar/users/dlaub/projects/GenVarLoader/data/geuvadis/ds.gvl\n",
      "Is subset: False\n",
      "# of regions: 100\n",
      "# of samples: 420\n",
      "Output length: ragged\n",
      "Jitter: 0 (max: 0)\n",
      "Deterministic: True\n",
      "Sequence type: reference [haplotypes] annotated variants\n",
      "Active tracks: None\n",
      "Tracks available: None\n",
      "\u001b[0m\n"
     ]
    }
   ],
   "source": [
    "ref = \"/carter/shared/genomes/homo_sapiens/grch37.primary.fa.bgz\"\n",
    "ds = gvl.Dataset.open(ds_path, ref).with_len(basenji2_in_len)"
   ]
  },
  {
   "cell_type": "markdown",
   "metadata": {},
   "source": [
    "This will find the index in Basenji2's output that corresponds to lymphoblastoid cells."
   ]
  },
  {
   "cell_type": "code",
   "execution_count": 11,
   "metadata": {},
   "outputs": [
    {
     "data": {
      "text/plain": [
       "[5110]"
      ]
     },
     "execution_count": 11,
     "metadata": {},
     "output_type": "execute_result"
    }
   ],
   "source": [
    "target_info = pl.read_csv(paths[\"basenji2_targets\"], separator=\"\\t\")\n",
    "targets = target_info.filter(pl.col(\"description\").str.contains(r\"lymphoblastoid\"))[\n",
    "    \"index\"\n",
    "].to_list()\n",
    "targets"
   ]
  },
  {
   "cell_type": "markdown",
   "metadata": {},
   "source": [
    "This creates and memory maps an array on-disk to store the predictions."
   ]
  },
  {
   "cell_type": "code",
   "execution_count": 12,
   "metadata": {},
   "outputs": [],
   "source": [
    "ploidy = 2\n",
    "# (r s p t l)\n",
    "pred_expr = np.memmap(\n",
    "    pred_path,\n",
    "    dtype=np.float32,\n",
    "    mode=\"w+\",\n",
    "    shape=(ds.n_regions, ds.n_samples, ploidy, len(targets), basenji2_out_len),\n",
    ")"
   ]
  },
  {
   "cell_type": "code",
   "execution_count": 13,
   "metadata": {},
   "outputs": [],
   "source": [
    "basenji2 = Basenji2(basenji2_params[\"model\"])\n",
    "basenji2.load_state_dict(torch.load(basenji2_weights()))\n",
    "device = \"cuda\" if torch.cuda.is_available() else \"cpu\"\n",
    "basenji2 = basenji2.to(device).eval()\n",
    "basenji2 = torch.compile(basenji2)"
   ]
  },
  {
   "cell_type": "markdown",
   "metadata": {},
   "source": [
    "Inference for 100 genes took ~9 minutes on a single A30 GPU, including compilation time."
   ]
  },
  {
   "cell_type": "code",
   "execution_count": 14,
   "metadata": {},
   "outputs": [
    {
     "data": {
      "application/vnd.jupyter.widget-view+json": {
       "model_id": "b52bf3258ca7461d9bda2a5a28327d68",
       "version_major": 2,
       "version_minor": 0
      },
      "text/plain": [
       "  0%|          | 0/1313 [00:00<?, ?it/s]"
      ]
     },
     "metadata": {},
     "output_type": "display_data"
    },
    {
     "name": "stderr",
     "output_type": "stream",
     "text": [
      "W0605 10:30:10.567000 459199 site-packages/torch/_inductor/utils.py:1250] [0/0] Not enough SMs to use max_autotune_gemm mode\n"
     ]
    }
   ],
   "source": [
    "def transform(haps):\n",
    "    haps = sp.DNA.ohe(haps).swapaxes(-2, -1)\n",
    "    return haps\n",
    "\n",
    "\n",
    "batch_size = 32\n",
    "with torch.no_grad(), torch.autocast(device, torch.bfloat16):\n",
    "    for batch_idx, batch in enumerate(\n",
    "        tqdm(ds.to_dataloader(batch_size, transform=transform))\n",
    "    ):\n",
    "        bsize = len(batch)\n",
    "        s = batch_idx * batch_size\n",
    "        e = s + bsize\n",
    "        ds_idx = np.arange(s, e)\n",
    "        r_idx, s_idx = np.unravel_index(ds_idx, ds.shape)\n",
    "        batch = rearrange(batch, \"b p a l -> (b p) a l\").to(device, torch.float32)\n",
    "        pred = basenji2(batch)[..., targets]\n",
    "        pred = rearrange(pred, \"(b p) l t -> b p t l\", b=bsize)\n",
    "        pred_expr[r_idx, s_idx] = pred.numpy(force=True)"
   ]
  },
  {
   "cell_type": "code",
   "execution_count": 15,
   "metadata": {},
   "outputs": [],
   "source": [
    "ploidy = 2\n",
    "# (r s p t l)\n",
    "pred_expr = np.memmap(\n",
    "    pred_path,\n",
    "    dtype=np.float32,\n",
    "    mode=\"r\",\n",
    "    shape=(ds.n_regions, ds.n_samples, ploidy, len(targets), basenji2_out_len),\n",
    ")"
   ]
  },
  {
   "cell_type": "code",
   "execution_count": 16,
   "metadata": {},
   "outputs": [],
   "source": [
    "# (g s p t l) -> (g s)\n",
    "huang_expr = pred_expr[..., basenji2_out_len // 2 - 5 : basenji2_out_len // 2 + 5].mean(\n",
    "    axis=(2, 3, 4)\n",
    ")"
   ]
  },
  {
   "cell_type": "code",
   "execution_count": 19,
   "metadata": {},
   "outputs": [],
   "source": [
    "gene_rho = np.diag(\n",
    "    st.spearmanr(expr[:n_genes, 1:].to_numpy(), huang_expr, axis=0).statistic,\n",
    "    ds.n_samples,\n",
    ")\n",
    "indiv_rho = np.diag(\n",
    "    st.spearmanr(expr[:n_genes, 1:].to_numpy(), huang_expr, axis=1).statistic,\n",
    "    ds.n_regions,\n",
    ")"
   ]
  },
  {
   "cell_type": "markdown",
   "metadata": {},
   "source": [
    "Since we're only using the first 100 genes, the results do not match Huang et al.'s exactly but are still consistent with their results. Using personalized sequences as input, Basenji2 is able to predict differences in expression between genes but not between individuals."
   ]
  },
  {
   "cell_type": "code",
   "execution_count": 42,
   "metadata": {},
   "outputs": [
    {
     "data": {
      "image/png": "[encoded data removed]",
      "text/plain": [
       "<Figure size 640x480 with 1 Axes>"
      ]
     },
     "metadata": {},
     "output_type": "display_data"
    }
   ],
   "source": [
    "fig, ax = plt.subplots()\n",
    "sns.ecdfplot(gene_rho.ravel(), label=r\"$\\rho$ across genes\", ax=ax)\n",
    "sns.ecdfplot(indiv_rho.ravel(), label=r\"$\\rho$ across individuals\", ax=ax)\n",
    "ax.axvline(np.nanmean(gene_rho), color=\"C0\", linestyle=\"--\")\n",
    "ax.axvline(np.nanmean(indiv_rho), color=\"C1\", linestyle=\"--\")\n",
    "ax.legend(loc=\"best\")\n",
    "ax.set(xlabel=r\"Spearman $\\rho$\");"
   ]
  }
 ],
 "metadata": {
  "kernelspec": {
   "display_name": "GVL Docs GPU",
   "language": "python",
   "name": "gvl-docs-gpu"
  },
  "language_info": {
   "codemirror_mode": {
    "name": "ipython",
    "version": 3
   },
   "file_extension": ".py",
   "mimetype": "text/x-python",
   "name": "python",
   "nbconvert_exporter": "python",
   "pygments_lexer": "ipython3",
   "version": "3.12.11"
  }
 },
 "nbformat": 4,
 "nbformat_minor": 2
}
