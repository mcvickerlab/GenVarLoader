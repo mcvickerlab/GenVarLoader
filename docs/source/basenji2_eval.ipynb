{
 "cells": [
  {
   "cell_type": "code",
   "execution_count": null,
   "metadata": {},
   "outputs": [],
   "source": [
    "import warnings\n",
    "from math import log\n",
    "from typing import cast\n",
    "\n",
    "import genvarloader as gvl\n",
    "import numpy as np\n",
    "import polars.selectors as cs\n",
    "import polars as pl\n",
    "import pooch\n",
    "import seqpro as sp\n",
    "import torch\n",
    "from basenji2_pytorch import Basenji2, basenji2_params, basenji2_weights\n",
    "from einops import rearrange\n",
    "from genoray import PGEN\n",
    "from genoray.exprs import is_snp, is_biallelic\n",
    "from tqdm.auto import tqdm\n",
    "# import scipy.stats as st\n",
    "# import seaborn as sns\n",
    "# import matplotlib.pyplot as plt"
   ]
  },
  {
   "cell_type": "code",
   "execution_count": null,
   "metadata": {},
   "outputs": [],
   "source": [
    "\"https://ftp.ebi.ac.uk/biostudies/fire/E-GEUV-/003/E-GEUV-3/Files/analysis_results.zip\""
   ]
  }
 ],
 "metadata": {
  "kernelspec": {
   "display_name": "GVL Docs",
   "language": "python",
   "name": "gvl-docs"
  }
 },
 "nbformat": 4,
 "nbformat_minor": 2
}
