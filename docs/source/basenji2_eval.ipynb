{
 "cells": [
  {
   "cell_type": "markdown",
   "metadata": {},
   "source": [
    "# Evaluate Basenji2 for personal gene expression"
   ]
  },
  {
   "cell_type": "markdown",
   "metadata": {},
   "source": [
    "Here we will reproduce the results from [Huang et al. 2023](https://www.nature.com/articles/s41588-023-01574-w). All the steps here exactly match the steps in the original paper except for the 1 bp jittering and forward and reverse complementing of the haplotypes, which make no apparent difference to the results and will save us quite a bit of time.\n",
    "\n",
    "Note that even with with this time-saving skip, processing all 3,259 eGenes from [Lappalainen et al. 2013](https://www.nature.com/articles/nature12531) may take hours to days to run depending on your GPU. Thus, we'll just use the first 100 genes for this tutorial. If you do not have a GPU, we recommend skipping this tutorial as Basenji2 is prohibitively slow without one."
   ]
  },
  {
   "cell_type": "code",
   "execution_count": 1,
   "metadata": {},
   "outputs": [
    {
     "name": "stderr",
     "output_type": "stream",
     "text": [
      "/carter/users/dlaub/projects/GenVarLoader/.pixi/envs/docs-gpu/lib/python3.12/site-packages/sorted_nearest/__init__.py:1: UserWarning: pkg_resources is deprecated as an API. See https://setuptools.pypa.io/en/latest/pkg_resources.html. The pkg_resources package is slated for removal as early as 2025-11-30. Refrain from using this package or pin to Setuptools<81.\n",
      "  import pkg_resources\n"
     ]
    }
   ],
   "source": [
    "from math import log\n",
    "\n",
    "import genvarloader as gvl\n",
    "import matplotlib.pyplot as plt\n",
    "import numpy as np\n",
    "import polars.selectors as cs\n",
    "import polars as pl\n",
    "import scipy.stats as st\n",
    "import seaborn as sns\n",
    "import seqpro as sp\n",
    "import torch\n",
    "from basenji2_pytorch import Basenji2, basenji2_params, basenji2_weights\n",
    "from einops import rearrange\n",
    "from genoray import PGEN\n",
    "from genoray.exprs import is_snp, is_biallelic\n",
    "from tqdm.auto import tqdm"
   ]
  },
  {
   "cell_type": "code",
   "execution_count": 2,
   "metadata": {},
   "outputs": [],
   "source": [
    "ds_path = input(\"Dataset path (should end in .gvl): \")\n",
    "pred_path = input(\"Prediction path (should end in .npy): \")\n",
    "basenji2_in_len = 2**17\n",
    "basenji2_out_len = 896\n",
    "paths = gvl.data_registry.fetch(\"geuvadis_ebi\")\n",
    "samples = pl.read_csv(paths[\"samples\"], separator=\"\\t\").to_series().to_list()"
   ]
  },
  {
   "cell_type": "code",
   "execution_count": 3,
   "metadata": {},
   "outputs": [
    {
     "data": {
      "text/html": [
       "<div><style>\n",
       ".dataframe > thead > tr,\n",
       ".dataframe > tbody > tr {\n",
       "  text-align: right;\n",
       "  white-space: pre-wrap;\n",
       "}\n",
       "</style>\n",
       "<small>shape: (5, 5)</small><table border=\"1\" class=\"dataframe\"><thead><tr><th>gene_id</th><th>chrom</th><th>chromStart</th><th>hgnc</th><th>strand</th></tr><tr><td>str</td><td>i64</td><td>i64</td><td>str</td><td>str</td></tr></thead><tbody><tr><td>&quot;ENSG00000000457&quot;</td><td>1</td><td>169863408</td><td>&quot;SCYL3&quot;</td><td>&quot;-&quot;</td></tr><tr><td>&quot;ENSG00000001630&quot;</td><td>7</td><td>91772266</td><td>&quot;CYP51A1&quot;</td><td>&quot;-&quot;</td></tr><tr><td>&quot;ENSG00000002549&quot;</td><td>4</td><td>17578815</td><td>&quot;LAP3&quot;</td><td>&quot;+&quot;</td></tr><tr><td>&quot;ENSG00000002745&quot;</td><td>7</td><td>120965421</td><td>&quot;WNT16&quot;</td><td>&quot;+&quot;</td></tr><tr><td>&quot;ENSG00000003056&quot;</td><td>12</td><td>9102551</td><td>&quot;M6PR&quot;</td><td>&quot;-&quot;</td></tr></tbody></table></div>"
      ],
      "text/plain": [
       "shape: (5, 5)\n",
       "┌─────────────────┬───────┬────────────┬─────────┬────────┐\n",
       "│ gene_id         ┆ chrom ┆ chromStart ┆ hgnc    ┆ strand │\n",
       "│ ---             ┆ ---   ┆ ---        ┆ ---     ┆ ---    │\n",
       "│ str             ┆ i64   ┆ i64        ┆ str     ┆ str    │\n",
       "╞═════════════════╪═══════╪════════════╪═════════╪════════╡\n",
       "│ ENSG00000000457 ┆ 1     ┆ 169863408  ┆ SCYL3   ┆ -      │\n",
       "│ ENSG00000001630 ┆ 7     ┆ 91772266   ┆ CYP51A1 ┆ -      │\n",
       "│ ENSG00000002549 ┆ 4     ┆ 17578815   ┆ LAP3    ┆ +      │\n",
       "│ ENSG00000002745 ┆ 7     ┆ 120965421  ┆ WNT16   ┆ +      │\n",
       "│ ENSG00000003056 ┆ 12    ┆ 9102551    ┆ M6PR    ┆ -      │\n",
       "└─────────────────┴───────┴────────────┴─────────┴────────┘"
      ]
     },
     "execution_count": 3,
     "metadata": {},
     "output_type": "execute_result"
    }
   ],
   "source": [
    "genes = pl.read_csv(\n",
    "    paths[\"genes\"],\n",
    "    has_header=False,\n",
    "    new_columns=[\"gene_id\", \"chrom\", \"chromStart\", \"hgnc\", \"strand\"],\n",
    ")\n",
    "genes.head()"
   ]
  },
  {
   "cell_type": "code",
   "execution_count": 4,
   "metadata": {},
   "outputs": [
    {
     "data": {
      "text/html": [
       "<div><style>\n",
       ".dataframe > thead > tr,\n",
       ".dataframe > tbody > tr {\n",
       "  text-align: right;\n",
       "  white-space: pre-wrap;\n",
       "}\n",
       "</style>\n",
       "<small>shape: (5, 421)</small><table border=\"1\" class=\"dataframe\"><thead><tr><th>gene_id</th><th>HG00097</th><th>HG00099</th><th>HG00100</th><th>HG00101</th><th>HG00102</th><th>HG00103</th><th>HG00104</th><th>HG00106</th><th>HG00108</th><th>HG00109</th><th>HG00110</th><th>HG00111</th><th>HG00112</th><th>HG00114</th><th>HG00116</th><th>HG00117</th><th>HG00118</th><th>HG00119</th><th>HG00120</th><th>HG00121</th><th>HG00122</th><th>HG00123</th><th>HG00124</th><th>HG00125</th><th>HG00126</th><th>HG00127</th><th>HG00128</th><th>HG00129</th><th>HG00130</th><th>HG00131</th><th>HG00133</th><th>HG00134</th><th>HG00135</th><th>HG00136</th><th>HG00137</th><th>HG00138</th><th>&hellip;</th><th>NA20770</th><th>NA20771</th><th>NA20772</th><th>NA20773</th><th>NA20774</th><th>NA20778</th><th>NA20783</th><th>NA20785</th><th>NA20786</th><th>NA20787</th><th>NA20790</th><th>NA20792</th><th>NA20795</th><th>NA20796</th><th>NA20797</th><th>NA20798</th><th>NA20799</th><th>NA20800</th><th>NA20801</th><th>NA20802</th><th>NA20803</th><th>NA20804</th><th>NA20805</th><th>NA20806</th><th>NA20807</th><th>NA20808</th><th>NA20809</th><th>NA20810</th><th>NA20811</th><th>NA20812</th><th>NA20813</th><th>NA20814</th><th>NA20815</th><th>NA20816</th><th>NA20819</th><th>NA20826</th><th>NA20828</th></tr><tr><td>str</td><td>f64</td><td>f64</td><td>f64</td><td>f64</td><td>f64</td><td>f64</td><td>f64</td><td>f64</td><td>f64</td><td>f64</td><td>f64</td><td>f64</td><td>f64</td><td>f64</td><td>f64</td><td>f64</td><td>f64</td><td>f64</td><td>f64</td><td>f64</td><td>f64</td><td>f64</td><td>f64</td><td>f64</td><td>f64</td><td>f64</td><td>f64</td><td>f64</td><td>f64</td><td>f64</td><td>f64</td><td>f64</td><td>f64</td><td>f64</td><td>f64</td><td>f64</td><td>&hellip;</td><td>f64</td><td>f64</td><td>f64</td><td>f64</td><td>f64</td><td>f64</td><td>f64</td><td>f64</td><td>f64</td><td>f64</td><td>f64</td><td>f64</td><td>f64</td><td>f64</td><td>f64</td><td>f64</td><td>f64</td><td>f64</td><td>f64</td><td>f64</td><td>f64</td><td>f64</td><td>f64</td><td>f64</td><td>f64</td><td>f64</td><td>f64</td><td>f64</td><td>f64</td><td>f64</td><td>f64</td><td>f64</td><td>f64</td><td>f64</td><td>f64</td><td>f64</td><td>f64</td></tr></thead><tbody><tr><td>&quot;ENSG00000000457&quot;</td><td>3.140177</td><td>2.244776</td><td>2.81148</td><td>2.837441</td><td>2.558739</td><td>3.222918</td><td>2.882317</td><td>2.968469</td><td>2.640006</td><td>2.96404</td><td>3.178503</td><td>2.877948</td><td>3.133748</td><td>2.921671</td><td>3.184406</td><td>2.977955</td><td>2.941812</td><td>3.255446</td><td>2.800092</td><td>3.117055</td><td>3.049827</td><td>2.922898</td><td>3.244766</td><td>2.84497</td><td>3.041862</td><td>3.06226</td><td>3.015695</td><td>2.899309</td><td>2.915384</td><td>3.326138</td><td>2.897777</td><td>2.747475</td><td>2.972358</td><td>3.301305</td><td>3.061823</td><td>2.654215</td><td>&hellip;</td><td>3.075311</td><td>2.997922</td><td>3.151415</td><td>2.930786</td><td>2.673931</td><td>2.784277</td><td>3.348821</td><td>3.510797</td><td>3.180127</td><td>2.937587</td><td>3.063693</td><td>3.333205</td><td>3.079004</td><td>3.166981</td><td>2.7067</td><td>3.324133</td><td>3.097668</td><td>2.842835</td><td>2.697607</td><td>2.698421</td><td>2.978329</td><td>3.046703</td><td>3.144758</td><td>2.782715</td><td>3.06975</td><td>2.891104</td><td>2.893421</td><td>2.952677</td><td>2.869649</td><td>2.804927</td><td>3.255143</td><td>3.076577</td><td>2.984109</td><td>3.141895</td><td>3.186543</td><td>3.165044</td><td>3.149742</td></tr><tr><td>&quot;ENSG00000001630&quot;</td><td>5.254291</td><td>4.743122</td><td>5.165065</td><td>5.508409</td><td>5.436345</td><td>5.094442</td><td>5.671152</td><td>4.958463</td><td>5.327279</td><td>5.484112</td><td>5.404432</td><td>5.298302</td><td>5.49555</td><td>5.388366</td><td>5.335098</td><td>5.45525</td><td>5.244614</td><td>5.321617</td><td>5.559788</td><td>5.138869</td><td>5.397729</td><td>4.881141</td><td>5.142103</td><td>5.110888</td><td>4.96077</td><td>4.975971</td><td>5.362956</td><td>5.352687</td><td>5.430543</td><td>5.440641</td><td>5.247444</td><td>5.22508</td><td>5.402135</td><td>5.667279</td><td>5.349072</td><td>5.377078</td><td>&hellip;</td><td>5.62847</td><td>5.344381</td><td>5.234146</td><td>5.171865</td><td>5.355888</td><td>5.527908</td><td>5.130563</td><td>4.876342</td><td>5.168707</td><td>5.486384</td><td>5.236632</td><td>5.39799</td><td>5.696301</td><td>5.580772</td><td>4.680338</td><td>5.5497</td><td>5.065044</td><td>5.449657</td><td>5.375687</td><td>5.391198</td><td>5.528409</td><td>5.168126</td><td>5.450947</td><td>5.603893</td><td>5.365786</td><td>5.094545</td><td>5.284731</td><td>5.36017</td><td>5.435211</td><td>5.5433</td><td>5.673632</td><td>5.212856</td><td>5.264935</td><td>5.558429</td><td>5.586847</td><td>5.492437</td><td>5.315439</td></tr><tr><td>&quot;ENSG00000002549&quot;</td><td>6.869873</td><td>6.340609</td><td>7.019437</td><td>6.814486</td><td>7.077219</td><td>6.861647</td><td>7.119924</td><td>6.63782</td><td>7.056425</td><td>6.764851</td><td>7.021541</td><td>6.562665</td><td>7.105234</td><td>7.127753</td><td>5.774006</td><td>6.74339</td><td>6.689699</td><td>7.042266</td><td>6.78297</td><td>7.361635</td><td>7.052123</td><td>6.862205</td><td>7.299658</td><td>6.9956</td><td>6.763587</td><td>6.448113</td><td>7.085797</td><td>6.758582</td><td>6.93361</td><td>6.711811</td><td>7.115387</td><td>6.951429</td><td>6.818789</td><td>6.775274</td><td>7.141743</td><td>7.319792</td><td>&hellip;</td><td>6.813124</td><td>7.110503</td><td>6.799148</td><td>7.148959</td><td>6.623436</td><td>6.883789</td><td>6.840434</td><td>6.958998</td><td>6.633534</td><td>6.899227</td><td>6.95887</td><td>7.004662</td><td>7.036034</td><td>6.99611</td><td>6.685966</td><td>6.701324</td><td>6.810408</td><td>6.66492</td><td>6.88647</td><td>6.754432</td><td>6.843899</td><td>6.620893</td><td>6.707971</td><td>7.057052</td><td>6.882407</td><td>6.739473</td><td>6.899468</td><td>6.460921</td><td>6.864801</td><td>7.196899</td><td>6.952156</td><td>6.940546</td><td>7.10876</td><td>6.676775</td><td>6.845775</td><td>6.778758</td><td>6.7926</td></tr><tr><td>&quot;ENSG00000002745&quot;</td><td>0.233011</td><td>0.043301</td><td>0.221877</td><td>0.153917</td><td>0.349477</td><td>0.16196</td><td>0.026184</td><td>0.313456</td><td>0.083506</td><td>0.306676</td><td>0.159147</td><td>0.266666</td><td>0.184163</td><td>0.243376</td><td>0.046684</td><td>0.277083</td><td>0.127501</td><td>0.192247</td><td>0.234395</td><td>0.175509</td><td>0.240182</td><td>0.23571</td><td>0.420965</td><td>-0.067128</td><td>0.211877</td><td>0.02425</td><td>0.300218</td><td>0.323947</td><td>0.17433</td><td>0.108839</td><td>0.666503</td><td>-0.042113</td><td>0.274431</td><td>1.115249</td><td>0.221913</td><td>0.341561</td><td>&hellip;</td><td>0.162325</td><td>0.118648</td><td>0.273519</td><td>0.116798</td><td>0.043293</td><td>0.096995</td><td>0.146344</td><td>0.098731</td><td>0.200517</td><td>0.100747</td><td>-0.032996</td><td>0.104284</td><td>0.636317</td><td>0.081165</td><td>0.064087</td><td>0.153327</td><td>0.149929</td><td>0.953069</td><td>0.04275</td><td>0.165065</td><td>0.191501</td><td>0.377184</td><td>0.016317</td><td>0.016814</td><td>0.532975</td><td>0.290175</td><td>0.073313</td><td>0.207794</td><td>0.455368</td><td>0.304623</td><td>0.097147</td><td>0.098622</td><td>0.181968</td><td>0.161204</td><td>-0.045138</td><td>0.090483</td><td>-0.074871</td></tr><tr><td>&quot;ENSG00000003056&quot;</td><td>6.955064</td><td>6.309078</td><td>6.814483</td><td>6.8951</td><td>7.126598</td><td>7.020002</td><td>6.917494</td><td>6.888045</td><td>6.819</td><td>7.043565</td><td>7.054049</td><td>7.03521</td><td>7.293131</td><td>6.868421</td><td>6.861477</td><td>6.971607</td><td>7.109891</td><td>7.09009</td><td>7.18324</td><td>6.944421</td><td>6.888635</td><td>7.024218</td><td>6.964932</td><td>6.472605</td><td>7.156976</td><td>6.881854</td><td>6.924399</td><td>7.150262</td><td>6.822055</td><td>6.892179</td><td>6.914114</td><td>6.997049</td><td>7.05316</td><td>6.823647</td><td>6.860583</td><td>6.945812</td><td>&hellip;</td><td>7.149597</td><td>7.142139</td><td>7.190254</td><td>6.909133</td><td>6.80567</td><td>6.675559</td><td>7.198447</td><td>7.072565</td><td>7.168932</td><td>7.192656</td><td>6.517074</td><td>7.124623</td><td>7.041709</td><td>6.886188</td><td>6.679895</td><td>6.948122</td><td>6.92352</td><td>6.72931</td><td>7.020267</td><td>6.787303</td><td>6.758335</td><td>7.327399</td><td>6.920565</td><td>6.971327</td><td>6.426941</td><td>7.082464</td><td>7.048587</td><td>7.034429</td><td>7.325066</td><td>7.205497</td><td>6.852689</td><td>6.951744</td><td>6.827468</td><td>7.136559</td><td>7.05967</td><td>6.879903</td><td>7.024424</td></tr></tbody></table></div>"
      ],
      "text/plain": [
       "shape: (5, 421)\n",
       "┌───────────────┬──────────┬──────────┬──────────┬───┬──────────┬───────────┬──────────┬───────────┐\n",
       "│ gene_id       ┆ HG00097  ┆ HG00099  ┆ HG00100  ┆ … ┆ NA20816  ┆ NA20819   ┆ NA20826  ┆ NA20828   │\n",
       "│ ---           ┆ ---      ┆ ---      ┆ ---      ┆   ┆ ---      ┆ ---       ┆ ---      ┆ ---       │\n",
       "│ str           ┆ f64      ┆ f64      ┆ f64      ┆   ┆ f64      ┆ f64       ┆ f64      ┆ f64       │\n",
       "╞═══════════════╪══════════╪══════════╪══════════╪═══╪══════════╪═══════════╪══════════╪═══════════╡\n",
       "│ ENSG000000004 ┆ 3.140177 ┆ 2.244776 ┆ 2.81148  ┆ … ┆ 3.141895 ┆ 3.186543  ┆ 3.165044 ┆ 3.149742  │\n",
       "│ 57            ┆          ┆          ┆          ┆   ┆          ┆           ┆          ┆           │\n",
       "│ ENSG000000016 ┆ 5.254291 ┆ 4.743122 ┆ 5.165065 ┆ … ┆ 5.558429 ┆ 5.586847  ┆ 5.492437 ┆ 5.315439  │\n",
       "│ 30            ┆          ┆          ┆          ┆   ┆          ┆           ┆          ┆           │\n",
       "│ ENSG000000025 ┆ 6.869873 ┆ 6.340609 ┆ 7.019437 ┆ … ┆ 6.676775 ┆ 6.845775  ┆ 6.778758 ┆ 6.7926    │\n",
       "│ 49            ┆          ┆          ┆          ┆   ┆          ┆           ┆          ┆           │\n",
       "│ ENSG000000027 ┆ 0.233011 ┆ 0.043301 ┆ 0.221877 ┆ … ┆ 0.161204 ┆ -0.045138 ┆ 0.090483 ┆ -0.074871 │\n",
       "│ 45            ┆          ┆          ┆          ┆   ┆          ┆           ┆          ┆           │\n",
       "│ ENSG000000030 ┆ 6.955064 ┆ 6.309078 ┆ 6.814483 ┆ … ┆ 7.136559 ┆ 7.05967   ┆ 6.879903 ┆ 7.024424  │\n",
       "│ 56            ┆          ┆          ┆          ┆   ┆          ┆           ┆          ┆           │\n",
       "└───────────────┴──────────┴──────────┴──────────┴───┴──────────┴───────────┴──────────┴───────────┘"
      ]
     },
     "execution_count": 4,
     "metadata": {},
     "output_type": "execute_result"
    }
   ],
   "source": [
    "expr = (\n",
    "    pl.read_csv(paths[\"expr\"], separator=\"\\t\")\n",
    "    .rename({\"TargetID\": \"gene_id\"})\n",
    "    .drop(\"Gene_Symbol\", \"Chr\", \"Coord\")\n",
    "    .with_columns(\n",
    "        pl.col(\"gene_id\").str.split(\".\").list.get(0),\n",
    "        (cs.numeric() / cs.numeric().sum() * int(1e6)).log1p()\n",
    "        / log(2),  # log2(CPM + 1)\n",
    "    )\n",
    "    .join(genes, \"gene_id\")\n",
    "    .sort(\"gene_id\")\n",
    "    .select(\"gene_id\", *samples)\n",
    ")\n",
    "expr.head()"
   ]
  },
  {
   "cell_type": "code",
   "execution_count": 5,
   "metadata": {},
   "outputs": [
    {
     "name": "stderr",
     "output_type": "stream",
     "text": [
      "\u001b[32m2025-06-05 10:28:24.258\u001b[0m | \u001b[1mINFO    \u001b[0m | \u001b[36mgenoray._pgen\u001b[0m:\u001b[36m_read_index\u001b[0m:\u001b[36m1164\u001b[0m - \u001b[1mLoading genoray index.\u001b[0m\n"
     ]
    },
    {
     "data": {
      "text/html": [
       "<div><style>\n",
       ".dataframe > thead > tr,\n",
       ".dataframe > tbody > tr {\n",
       "  text-align: right;\n",
       "  white-space: pre-wrap;\n",
       "}\n",
       "</style>\n",
       "<small>shape: (5, 6)</small><table border=\"1\" class=\"dataframe\"><thead><tr><th>gene_id</th><th>chrom</th><th>chromStart</th><th>hgnc</th><th>strand</th><th>chromEnd</th></tr><tr><td>str</td><td>str</td><td>i64</td><td>str</td><td>str</td><td>i64</td></tr></thead><tbody><tr><td>&quot;ENSG00000000457&quot;</td><td>&quot;1&quot;</td><td>169797872</td><td>&quot;SCYL3&quot;</td><td>&quot;-&quot;</td><td>169928944</td></tr><tr><td>&quot;ENSG00000001630&quot;</td><td>&quot;7&quot;</td><td>91706730</td><td>&quot;CYP51A1&quot;</td><td>&quot;-&quot;</td><td>91837802</td></tr><tr><td>&quot;ENSG00000002549&quot;</td><td>&quot;4&quot;</td><td>17513279</td><td>&quot;LAP3&quot;</td><td>&quot;+&quot;</td><td>17644351</td></tr><tr><td>&quot;ENSG00000002745&quot;</td><td>&quot;7&quot;</td><td>120899885</td><td>&quot;WNT16&quot;</td><td>&quot;+&quot;</td><td>121030957</td></tr><tr><td>&quot;ENSG00000003056&quot;</td><td>&quot;12&quot;</td><td>9037015</td><td>&quot;M6PR&quot;</td><td>&quot;-&quot;</td><td>9168087</td></tr></tbody></table></div>"
      ],
      "text/plain": [
       "shape: (5, 6)\n",
       "┌─────────────────┬───────┬────────────┬─────────┬────────┬───────────┐\n",
       "│ gene_id         ┆ chrom ┆ chromStart ┆ hgnc    ┆ strand ┆ chromEnd  │\n",
       "│ ---             ┆ ---   ┆ ---        ┆ ---     ┆ ---    ┆ ---       │\n",
       "│ str             ┆ str   ┆ i64        ┆ str     ┆ str    ┆ i64       │\n",
       "╞═════════════════╪═══════╪════════════╪═════════╪════════╪═══════════╡\n",
       "│ ENSG00000000457 ┆ 1     ┆ 169797872  ┆ SCYL3   ┆ -      ┆ 169928944 │\n",
       "│ ENSG00000001630 ┆ 7     ┆ 91706730   ┆ CYP51A1 ┆ -      ┆ 91837802  │\n",
       "│ ENSG00000002549 ┆ 4     ┆ 17513279   ┆ LAP3    ┆ +      ┆ 17644351  │\n",
       "│ ENSG00000002745 ┆ 7     ┆ 120899885  ┆ WNT16   ┆ +      ┆ 121030957 │\n",
       "│ ENSG00000003056 ┆ 12    ┆ 9037015    ┆ M6PR    ┆ -      ┆ 9168087   │\n",
       "└─────────────────┴───────┴────────────┴─────────┴────────┴───────────┘"
      ]
     },
     "execution_count": 5,
     "metadata": {},
     "output_type": "execute_result"
    }
   ],
   "source": [
    "pgen = PGEN(\n",
    "    paths[\"pgen\"], filter=is_snp & is_biallelic & ~pl.col(\"ID\").str.starts_with(\"sv\")\n",
    ")\n",
    "\n",
    "bed = gvl.with_length(\n",
    "    genes.with_columns(chromEnd=pl.col(\"chromStart\")), basenji2_in_len\n",
    ").with_columns(pl.col(\"chrom\").cast(pl.Utf8))\n",
    "bed.head()"
   ]
  },
  {
   "cell_type": "code",
   "execution_count": 9,
   "metadata": {},
   "outputs": [
    {
     "name": "stderr",
     "output_type": "stream",
     "text": [
      "\u001b[32m2025-06-05 10:29:40.346\u001b[0m | \u001b[1mINFO    \u001b[0m | \u001b[36mgenvarloader._dataset._write\u001b[0m:\u001b[36mwrite\u001b[0m:\u001b[36m75\u001b[0m - \u001b[1mWriting dataset to /cellar/users/dlaub/projects/GenVarLoader/data/geuvadis/ds.gvl\u001b[0m\n",
      "\u001b[32m2025-06-05 10:29:40.352\u001b[0m | \u001b[1mINFO    \u001b[0m | \u001b[36mgenvarloader._dataset._write\u001b[0m:\u001b[36mwrite\u001b[0m:\u001b[36m147\u001b[0m - \u001b[1mUsing 420 samples.\u001b[0m\n",
      "\u001b[32m2025-06-05 10:29:40.352\u001b[0m | \u001b[1mINFO    \u001b[0m | \u001b[36mgenvarloader._dataset._write\u001b[0m:\u001b[36mwrite\u001b[0m:\u001b[36m153\u001b[0m - \u001b[1mWriting genotypes.\u001b[0m\n"
     ]
    },
    {
     "data": {
      "application/vnd.jupyter.widget-view+json": {
       "model_id": "1f7a66ba1050460a930ac92e0b2041bd",
       "version_major": 2,
       "version_minor": 0
      },
      "text/plain": [
       "  0%|          | 0/100 [00:00<?, ? region/s]"
      ]
     },
     "metadata": {},
     "output_type": "display_data"
    },
    {
     "name": "stderr",
     "output_type": "stream",
     "text": [
      "\u001b[32m2025-06-05 10:29:47.391\u001b[0m | \u001b[33m\u001b[1mWARNING \u001b[0m | \u001b[36mgenvarloader._dataset._write\u001b[0m:\u001b[36m_write_from_pgen\u001b[0m:\u001b[36m397\u001b[0m - \u001b[33m\u001b[1mA region has no variants for any sample. This could be expected depending on the region lengths and source of variants. However, this can also be caused by a mismatch between the reference genome used for the BED file coordinates and the one used for the variants.\u001b[0m\n",
      "\u001b[32m2025-06-05 10:29:50.967\u001b[0m | \u001b[1mINFO    \u001b[0m | \u001b[36mgenvarloader._dataset._write\u001b[0m:\u001b[36mwrite\u001b[0m:\u001b[36m177\u001b[0m - \u001b[1mFinished writing.\u001b[0m\n"
     ]
    }
   ],
   "source": [
    "n_genes = 100\n",
    "assert n_genes > 0\n",
    "assert n_genes <= genes.height\n",
    "\n",
    "gvl.write(ds_path, bed[:n_genes], variants=pgen, samples=samples, overwrite=True)"
   ]
  },
  {
   "cell_type": "code",
   "execution_count": 10,
   "metadata": {},
   "outputs": [
    {
     "name": "stderr",
     "output_type": "stream",
     "text": [
      "\u001b[32m2025-06-05 10:29:51.034\u001b[0m | \u001b[1mINFO    \u001b[0m | \u001b[36mgenvarloader._dataset._impl\u001b[0m:\u001b[36mopen\u001b[0m:\u001b[36m191\u001b[0m - \u001b[1mLoading reference genome into memory. This typically has a modest memory footprint (a few GB) and greatly improves performance.\u001b[0m\n",
      "\u001b[32m2025-06-05 10:29:51.982\u001b[0m | \u001b[1mINFO    \u001b[0m | \u001b[36mgenvarloader._dataset._reconstruct\u001b[0m:\u001b[36mfrom_path\u001b[0m:\u001b[36m183\u001b[0m - \u001b[1mLoading variant data.\u001b[0m\n",
      "\u001b[32m2025-06-05 10:29:52.666\u001b[0m | \u001b[1mINFO    \u001b[0m | \u001b[36mgenvarloader._dataset._impl\u001b[0m:\u001b[36mopen\u001b[0m:\u001b[36m276\u001b[0m - \u001b[1mOpened dataset:\n",
      "GVL store at /cellar/users/dlaub/projects/GenVarLoader/data/geuvadis/ds.gvl\n",
      "Is subset: False\n",
      "# of regions: 100\n",
      "# of samples: 420\n",
      "Output length: ragged\n",
      "Jitter: 0 (max: 0)\n",
      "Deterministic: True\n",
      "Sequence type: reference [haplotypes] annotated variants\n",
      "Active tracks: None\n",
      "Tracks available: None\n",
      "\u001b[0m\n"
     ]
    }
   ],
   "source": [
    "ref = \"/carter/shared/genomes/homo_sapiens/grch37.primary.fa.bgz\"\n",
    "ds = gvl.Dataset.open(ds_path, ref).with_len(basenji2_in_len)"
   ]
  },
  {
   "cell_type": "code",
   "execution_count": 11,
   "metadata": {},
   "outputs": [
    {
     "data": {
      "text/plain": [
       "[5110]"
      ]
     },
     "execution_count": 11,
     "metadata": {},
     "output_type": "execute_result"
    }
   ],
   "source": [
    "target_info = pl.read_csv(paths[\"basenji2_targets\"], separator=\"\\t\")\n",
    "targets = target_info.filter(pl.col(\"description\").str.contains(r\"lymphoblastoid\"))[\n",
    "    \"index\"\n",
    "].to_list()\n",
    "targets"
   ]
  },
  {
   "cell_type": "code",
   "execution_count": 12,
   "metadata": {},
   "outputs": [],
   "source": [
    "ploidy = 2\n",
    "# (r s p t)\n",
    "pred_expr = np.memmap(\n",
    "    pred_path,\n",
    "    dtype=np.float32,\n",
    "    mode=\"w+\",\n",
    "    shape=(ds.n_regions, ds.n_samples, ploidy, len(targets), basenji2_out_len),\n",
    ")"
   ]
  },
  {
   "cell_type": "code",
   "execution_count": 13,
   "metadata": {},
   "outputs": [],
   "source": [
    "basenji2 = Basenji2(basenji2_params[\"model\"])\n",
    "basenji2.load_state_dict(torch.load(basenji2_weights()))\n",
    "device = \"cuda\" if torch.cuda.is_available() else \"cpu\"\n",
    "basenji2 = basenji2.to(device).eval()\n",
    "basenji2 = torch.compile(basenji2)"
   ]
  },
  {
   "cell_type": "markdown",
   "metadata": {},
   "source": [
    "Inference for 100 genes took ~9 minutes on a single A30 GPU, including compilation time."
   ]
  },
  {
   "cell_type": "code",
   "execution_count": 14,
   "metadata": {},
   "outputs": [
    {
     "data": {
      "application/vnd.jupyter.widget-view+json": {
       "model_id": "b52bf3258ca7461d9bda2a5a28327d68",
       "version_major": 2,
       "version_minor": 0
      },
      "text/plain": [
       "  0%|          | 0/1313 [00:00<?, ?it/s]"
      ]
     },
     "metadata": {},
     "output_type": "display_data"
    },
    {
     "name": "stderr",
     "output_type": "stream",
     "text": [
      "W0605 10:30:10.567000 459199 site-packages/torch/_inductor/utils.py:1250] [0/0] Not enough SMs to use max_autotune_gemm mode\n"
     ]
    }
   ],
   "source": [
    "def transform(haps):\n",
    "    haps = sp.DNA.ohe(haps).swapaxes(-2, -1)\n",
    "    return haps\n",
    "\n",
    "batch_size = 32\n",
    "with torch.no_grad(), torch.autocast(device, torch.bfloat16):\n",
    "    for batch_idx, batch in enumerate(\n",
    "        tqdm(ds.to_dataloader(batch_size, transform=transform))\n",
    "    ):\n",
    "        bsize = len(batch)\n",
    "        s = batch_idx * batch_size\n",
    "        e = s + bsize\n",
    "        ds_idx = np.arange(s, e)\n",
    "        r_idx, s_idx = np.unravel_index(ds_idx, ds.shape)\n",
    "        batch = rearrange(batch, \"b p a l -> (b p) a l\").to(device, torch.float32)\n",
    "        pred = basenji2(batch)[..., targets]\n",
    "        pred = rearrange(pred, \"(b p) l t -> b p t l\", b=bsize)\n",
    "        pred_expr[r_idx, s_idx] = pred.numpy(force=True)"
   ]
  },
  {
   "cell_type": "code",
   "execution_count": 15,
   "metadata": {},
   "outputs": [],
   "source": [
    "ploidy = 2\n",
    "# (r s p t)\n",
    "pred_expr = np.memmap(\n",
    "    pred_path,\n",
    "    dtype=np.float32,\n",
    "    mode=\"r\",\n",
    "    shape=(ds.n_regions, ds.n_samples, ploidy, len(targets), basenji2_out_len),\n",
    ")"
   ]
  },
  {
   "cell_type": "code",
   "execution_count": 16,
   "metadata": {},
   "outputs": [],
   "source": [
    "# (g s p t l) -> (g s)\n",
    "huang_expr = pred_expr[..., basenji2_out_len // 2 - 5 : basenji2_out_len // 2 + 5].mean(\n",
    "    axis=(2, 3, 4)\n",
    ")"
   ]
  },
  {
   "cell_type": "code",
   "execution_count": 19,
   "metadata": {},
   "outputs": [],
   "source": [
    "gene_rho = np.diag(\n",
    "    st.spearmanr(expr[:n_genes, 1:].to_numpy(), huang_expr, axis=0).statistic, ds.n_samples\n",
    ")\n",
    "indiv_rho = np.diag(\n",
    "    st.spearmanr(expr[:n_genes, 1:].to_numpy(), huang_expr, axis=1).statistic, ds.n_regions\n",
    ")"
   ]
  },
  {
   "cell_type": "code",
   "execution_count": 41,
   "metadata": {},
   "outputs": [
    {
     "data": {
      "text/plain": [
       "[Text(0.5, 0, 'Spearman $\\\\rho$')]"
      ]
     },
     "execution_count": 41,
     "metadata": {},
     "output_type": "execute_result"
    },
    {
     "data": {
      "image/png": "[encoded data removed]",
      "text/plain": [
       "<Figure size 640x480 with 1 Axes>"
      ]
     },
     "metadata": {},
     "output_type": "display_data"
    }
   ],
   "source": [
    "fig, ax = plt.subplots()\n",
    "sns.ecdfplot(gene_rho.ravel(), label=r\"$\\rho$ across genes\", ax=ax)\n",
    "sns.ecdfplot(indiv_rho.ravel(), label=r\"$\\rho$ across individuals\", ax=ax)\n",
    "ax.axvline(np.nanmean(gene_rho), color=\"C0\", linestyle=\"--\")\n",
    "ax.axvline(np.nanmean(indiv_rho), color=\"C1\", linestyle=\"--\")\n",
    "ax.legend(loc=\"best\")\n",
    "ax.set(xlabel=r\"Spearman $\\rho$\")"
   ]
  }
 ],
 "metadata": {
  "kernelspec": {
   "display_name": "GVL Docs GPU",
   "language": "python",
   "name": "gvl-docs-gpu"
  },
  "language_info": {
   "codemirror_mode": {
    "name": "ipython",
    "version": 3
   },
   "file_extension": ".py",
   "mimetype": "text/x-python",
   "name": "python",
   "nbconvert_exporter": "python",
   "pygments_lexer": "ipython3",
   "version": "3.12.11"
  }
 },
 "nbformat": 4,
 "nbformat_minor": 2
}
