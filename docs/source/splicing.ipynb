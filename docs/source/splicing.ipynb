{
 "cells": [
  {
   "cell_type": "code",
   "execution_count": 1,
   "metadata": {},
   "outputs": [],
   "source": [
    "import genvarloader as gvl\n",
    "import polars as pl\n",
    "import pooch\n",
    "from pathlib import Path\n",
    "from tempfile import TemporaryDirectory"
   ]
  },
  {
   "cell_type": "code",
   "execution_count": 2,
   "metadata": {},
   "outputs": [],
   "source": [
    "# GRCh38 chromosome 22 sequence\n",
    "reference = pooch.retrieve(\n",
    "    url=\"https://ftp.ensembl.org/pub/release-112/fasta/homo_sapiens/dna/Homo_sapiens.GRCh38.dna.chromosome.22.fa.gz\",\n",
    "    known_hash=\"sha256:974f97ac8ef7ffae971b63b47608feda327403be40c27e391ee4a1a78b800df5\",\n",
    "    progressbar=True,\n",
    ")\n",
    "if not Path(f\"{reference[:-3]}.bgz\").exists():\n",
    "    !gzip -dc {reference} | bgzip > {reference[:-3]}.bgz\n",
    "reference = reference[:-3] + \".bgz\"\n",
    "\n",
    "# PLINK 2 files\n",
    "variants = pooch.retrieve(\n",
    "    url=\"doi:10.5281/zenodo.13656224/1kGP.chr22.pgen\",\n",
    "    known_hash=\"md5:31aba970e35f816701b2b99118dfc2aa\",\n",
    "    progressbar=True,\n",
    "    fname=\"1kGP.chr22.pgen\",\n",
    ")\n",
    "pooch.retrieve(\n",
    "    url=\"doi:10.5281/zenodo.13656224/1kGP.chr22.psam\",\n",
    "    known_hash=\"md5:eefa7aad5acffe62bf41df0a4600129c\",\n",
    "    progressbar=True,\n",
    "    fname=\"1kGP.chr22.psam\",\n",
    ")\n",
    "pooch.retrieve(\n",
    "    url=\"doi:10.5281/zenodo.13656224/1kGP.chr22.pvar\",\n",
    "    known_hash=\"md5:5f922af91c1a2f6822e2f1bb4469d12b\",\n",
    "    progressbar=True,\n",
    "    fname=\"1kGP.chr22.pvar\",\n",
    ")\n",
    "\n",
    "# GRCh38 Gencode GFF3\n",
    "gff = pooch.retrieve(\n",
    "    url=\"https://ftp.ebi.ac.uk/pub/databases/gencode/Gencode_human/release_47/gencode.v47.annotation.gff3.gz\",\n",
    "    known_hash=\"md5:918948a059c72088e44861835ade8a89\",\n",
    ")"
   ]
  },
  {
   "cell_type": "code",
   "execution_count": 3,
   "metadata": {},
   "outputs": [
    {
     "data": {
      "text/html": [
       "<div><style>\n",
       ".dataframe > thead > tr,\n",
       ".dataframe > tbody > tr {\n",
       "  text-align: right;\n",
       "  white-space: pre-wrap;\n",
       "}\n",
       "</style>\n",
       "<small>shape: (5, 9)</small><table border=\"1\" class=\"dataframe\"><thead><tr><th>seqname</th><th>source</th><th>feature</th><th>start</th><th>end</th><th>score</th><th>strand</th><th>frame</th><th>attribute</th></tr><tr><td>str</td><td>str</td><td>str</td><td>i64</td><td>i64</td><td>str</td><td>str</td><td>str</td><td>str</td></tr></thead><tbody><tr><td>&quot;chr1&quot;</td><td>&quot;HAVANA&quot;</td><td>&quot;gene&quot;</td><td>11121</td><td>24894</td><td>&quot;.&quot;</td><td>&quot;+&quot;</td><td>&quot;.&quot;</td><td>&quot;ID=ENSG00000290825.2;gene_id=E…</td></tr><tr><td>&quot;chr1&quot;</td><td>&quot;HAVANA&quot;</td><td>&quot;transcript&quot;</td><td>11121</td><td>14413</td><td>&quot;.&quot;</td><td>&quot;+&quot;</td><td>&quot;.&quot;</td><td>&quot;ID=ENST00000832824.1;Parent=EN…</td></tr><tr><td>&quot;chr1&quot;</td><td>&quot;HAVANA&quot;</td><td>&quot;exon&quot;</td><td>11121</td><td>11211</td><td>&quot;.&quot;</td><td>&quot;+&quot;</td><td>&quot;.&quot;</td><td>&quot;ID=exon:ENST00000832824.1:1;Pa…</td></tr><tr><td>&quot;chr1&quot;</td><td>&quot;HAVANA&quot;</td><td>&quot;exon&quot;</td><td>12010</td><td>12227</td><td>&quot;.&quot;</td><td>&quot;+&quot;</td><td>&quot;.&quot;</td><td>&quot;ID=exon:ENST00000832824.1:2;Pa…</td></tr><tr><td>&quot;chr1&quot;</td><td>&quot;HAVANA&quot;</td><td>&quot;exon&quot;</td><td>12613</td><td>12721</td><td>&quot;.&quot;</td><td>&quot;+&quot;</td><td>&quot;.&quot;</td><td>&quot;ID=exon:ENST00000832824.1:3;Pa…</td></tr></tbody></table></div>"
      ],
      "text/plain": [
       "shape: (5, 9)\n",
       "┌─────────┬────────┬────────────┬───────┬───┬───────┬────────┬───────┬─────────────────────────────┐\n",
       "│ seqname ┆ source ┆ feature    ┆ start ┆ … ┆ score ┆ strand ┆ frame ┆ attribute                   │\n",
       "│ ---     ┆ ---    ┆ ---        ┆ ---   ┆   ┆ ---   ┆ ---    ┆ ---   ┆ ---                         │\n",
       "│ str     ┆ str    ┆ str        ┆ i64   ┆   ┆ str   ┆ str    ┆ str   ┆ str                         │\n",
       "╞═════════╪════════╪════════════╪═══════╪═══╪═══════╪════════╪═══════╪═════════════════════════════╡\n",
       "│ chr1    ┆ HAVANA ┆ gene       ┆ 11121 ┆ … ┆ .     ┆ +      ┆ .     ┆ ID=ENSG00000290825.2;gene_i │\n",
       "│         ┆        ┆            ┆       ┆   ┆       ┆        ┆       ┆ d=E…                        │\n",
       "│ chr1    ┆ HAVANA ┆ transcript ┆ 11121 ┆ … ┆ .     ┆ +      ┆ .     ┆ ID=ENST00000832824.1;Parent │\n",
       "│         ┆        ┆            ┆       ┆   ┆       ┆        ┆       ┆ =EN…                        │\n",
       "│ chr1    ┆ HAVANA ┆ exon       ┆ 11121 ┆ … ┆ .     ┆ +      ┆ .     ┆ ID=exon:ENST00000832824.1:1 │\n",
       "│         ┆        ┆            ┆       ┆   ┆       ┆        ┆       ┆ ;Pa…                        │\n",
       "│ chr1    ┆ HAVANA ┆ exon       ┆ 12010 ┆ … ┆ .     ┆ +      ┆ .     ┆ ID=exon:ENST00000832824.1:2 │\n",
       "│         ┆        ┆            ┆       ┆   ┆       ┆        ┆       ┆ ;Pa…                        │\n",
       "│ chr1    ┆ HAVANA ┆ exon       ┆ 12613 ┆ … ┆ .     ┆ +      ┆ .     ┆ ID=exon:ENST00000832824.1:3 │\n",
       "│         ┆        ┆            ┆       ┆   ┆       ┆        ┆       ┆ ;Pa…                        │\n",
       "└─────────┴────────┴────────────┴───────┴───┴───────┴────────┴───────┴─────────────────────────────┘"
      ]
     },
     "execution_count": 3,
     "metadata": {},
     "output_type": "execute_result"
    }
   ],
   "source": [
    "gff_df = pl.read_csv(\n",
    "    gff,\n",
    "    separator=\"\\t\",\n",
    "    comment_prefix=\"#\",\n",
    "    has_header=False,\n",
    "    new_columns=[\n",
    "        \"seqname\",\n",
    "        \"source\",\n",
    "        \"feature\",\n",
    "        \"start\",\n",
    "        \"end\",\n",
    "        \"score\",\n",
    "        \"strand\",\n",
    "        \"frame\",\n",
    "        \"attribute\",\n",
    "    ],\n",
    ")\n",
    "gff_df.head()"
   ]
  },
  {
   "cell_type": "code",
   "execution_count": 4,
   "metadata": {},
   "outputs": [
    {
     "data": {
      "text/html": [
       "<div><style>\n",
       ".dataframe > thead > tr,\n",
       ".dataframe > tbody > tr {\n",
       "  text-align: right;\n",
       "  white-space: pre-wrap;\n",
       "}\n",
       "</style>\n",
       "<small>shape: (5, 11)</small><table border=\"1\" class=\"dataframe\"><thead><tr><th>chrom</th><th>source</th><th>feature</th><th>chromStart</th><th>chromEnd</th><th>score</th><th>strand</th><th>frame</th><th>attribute</th><th>gene</th><th>exon_num</th></tr><tr><td>str</td><td>str</td><td>str</td><td>i64</td><td>i64</td><td>str</td><td>str</td><td>str</td><td>str</td><td>str</td><td>str</td></tr></thead><tbody><tr><td>&quot;chr22&quot;</td><td>&quot;HAVANA&quot;</td><td>&quot;exon&quot;</td><td>10529036</td><td>10529164</td><td>&quot;.&quot;</td><td>&quot;-&quot;</td><td>&quot;.&quot;</td><td>&quot;ID=exon:ENST00000724296.1:1;Pa…</td><td>&quot;ENSG00000294541.1&quot;</td><td>&quot;1&quot;</td></tr><tr><td>&quot;chr22&quot;</td><td>&quot;HAVANA&quot;</td><td>&quot;exon&quot;</td><td>10527853</td><td>10528040</td><td>&quot;.&quot;</td><td>&quot;-&quot;</td><td>&quot;.&quot;</td><td>&quot;ID=exon:ENST00000724296.1:2;Pa…</td><td>&quot;ENSG00000294541.1&quot;</td><td>&quot;2&quot;</td></tr><tr><td>&quot;chr22&quot;</td><td>&quot;HAVANA&quot;</td><td>&quot;exon&quot;</td><td>10524345</td><td>10524446</td><td>&quot;.&quot;</td><td>&quot;-&quot;</td><td>&quot;.&quot;</td><td>&quot;ID=exon:ENST00000724296.1:3;Pa…</td><td>&quot;ENSG00000294541.1&quot;</td><td>&quot;3&quot;</td></tr><tr><td>&quot;chr22&quot;</td><td>&quot;ENSEMBL&quot;</td><td>&quot;exon&quot;</td><td>10736171</td><td>10736283</td><td>&quot;.&quot;</td><td>&quot;-&quot;</td><td>&quot;.&quot;</td><td>&quot;ID=exon:ENST00000615943.1:1;Pa…</td><td>&quot;ENSG00000277248.1&quot;</td><td>&quot;1&quot;</td></tr><tr><td>&quot;chr22&quot;</td><td>&quot;HAVANA&quot;</td><td>&quot;exon&quot;</td><td>10742050</td><td>10742191</td><td>&quot;.&quot;</td><td>&quot;+&quot;</td><td>&quot;.&quot;</td><td>&quot;ID=exon:ENST00000779064.1:1;Pa…</td><td>&quot;ENSG00000301473.1&quot;</td><td>&quot;1&quot;</td></tr></tbody></table></div>"
      ],
      "text/plain": [
       "shape: (5, 11)\n",
       "┌───────┬─────────┬─────────┬────────────┬───┬───────┬─────────────────┬────────────────┬──────────┐\n",
       "│ chrom ┆ source  ┆ feature ┆ chromStart ┆ … ┆ frame ┆ attribute       ┆ gene           ┆ exon_num │\n",
       "│ ---   ┆ ---     ┆ ---     ┆ ---        ┆   ┆ ---   ┆ ---             ┆ ---            ┆ ---      │\n",
       "│ str   ┆ str     ┆ str     ┆ i64        ┆   ┆ str   ┆ str             ┆ str            ┆ str      │\n",
       "╞═══════╪═════════╪═════════╪════════════╪═══╪═══════╪═════════════════╪════════════════╪══════════╡\n",
       "│ chr22 ┆ HAVANA  ┆ exon    ┆ 10529036   ┆ … ┆ .     ┆ ID=exon:ENST000 ┆ ENSG0000029454 ┆ 1        │\n",
       "│       ┆         ┆         ┆            ┆   ┆       ┆ 00724296.1:1;Pa ┆ 1.1            ┆          │\n",
       "│       ┆         ┆         ┆            ┆   ┆       ┆ …               ┆                ┆          │\n",
       "│ chr22 ┆ HAVANA  ┆ exon    ┆ 10527853   ┆ … ┆ .     ┆ ID=exon:ENST000 ┆ ENSG0000029454 ┆ 2        │\n",
       "│       ┆         ┆         ┆            ┆   ┆       ┆ 00724296.1:2;Pa ┆ 1.1            ┆          │\n",
       "│       ┆         ┆         ┆            ┆   ┆       ┆ …               ┆                ┆          │\n",
       "│ chr22 ┆ HAVANA  ┆ exon    ┆ 10524345   ┆ … ┆ .     ┆ ID=exon:ENST000 ┆ ENSG0000029454 ┆ 3        │\n",
       "│       ┆         ┆         ┆            ┆   ┆       ┆ 00724296.1:3;Pa ┆ 1.1            ┆          │\n",
       "│       ┆         ┆         ┆            ┆   ┆       ┆ …               ┆                ┆          │\n",
       "│ chr22 ┆ ENSEMBL ┆ exon    ┆ 10736171   ┆ … ┆ .     ┆ ID=exon:ENST000 ┆ ENSG0000027724 ┆ 1        │\n",
       "│       ┆         ┆         ┆            ┆   ┆       ┆ 00615943.1:1;Pa ┆ 8.1            ┆          │\n",
       "│       ┆         ┆         ┆            ┆   ┆       ┆ …               ┆                ┆          │\n",
       "│ chr22 ┆ HAVANA  ┆ exon    ┆ 10742050   ┆ … ┆ .     ┆ ID=exon:ENST000 ┆ ENSG0000030147 ┆ 1        │\n",
       "│       ┆         ┆         ┆            ┆   ┆       ┆ 00779064.1:1;Pa ┆ 3.1            ┆          │\n",
       "│       ┆         ┆         ┆            ┆   ┆       ┆ …               ┆                ┆          │\n",
       "└───────┴─────────┴─────────┴────────────┴───┴───────┴─────────────────┴────────────────┴──────────┘"
      ]
     },
     "execution_count": 4,
     "metadata": {},
     "output_type": "execute_result"
    }
   ],
   "source": [
    "chr22_genes = (\n",
    "    gff_df.filter(pl.col(\"seqname\") == \"chr22\")\n",
    "    .filter(pl.col(\"feature\") == \"exon\")\n",
    "    .with_columns(\n",
    "        gene=pl.col(\"attribute\").str.extract(r\"gene_id=(.*?);\"),\n",
    "        exon_num=pl.col(\"attribute\").str.extract(r\"exon_number=(.*?);\"),\n",
    "    )\n",
    "    .rename({\"seqname\": \"chrom\", \"start\": \"chromStart\", \"end\": \"chromEnd\"})\n",
    ")\n",
    "chr22_genes.head()"
   ]
  },
  {
   "cell_type": "code",
   "execution_count": 5,
   "metadata": {},
   "outputs": [
    {
     "data": {
      "application/vnd.jupyter.widget-view+json": {
       "model_id": "26cf9d1b27a94b2cb454d8e32a90f98c",
       "version_major": 2,
       "version_minor": 0
      },
      "text/plain": [
       "  0%|          | 0/1 [00:00<?, ?it/s]"
      ]
     },
     "metadata": {},
     "output_type": "display_data"
    }
   ],
   "source": [
    "ds_path = TemporaryDirectory(suffix=\".gvl\").name\n",
    "gvl.write(ds_path, chr22_genes[:100], variants)"
   ]
  },
  {
   "cell_type": "code",
   "execution_count": 6,
   "metadata": {},
   "outputs": [],
   "source": [
    "ds = gvl.Dataset.open(ds_path, reference, splice_info=(\"gene\", \"exon_num\"))"
   ]
  },
  {
   "cell_type": "code",
   "execution_count": 15,
   "metadata": {},
   "outputs": [
    {
     "ename": "IndexError",
     "evalue": "cannot slice RegularArray (of length 1) with [3]: index out of range while attempting to get index 3 (in compiled code: https://github.com/scikit-hep/awkward/blob/awkward-cpp-44/awkward-cpp/src/cpu-kernels/awkward_RegularArray_getitem_next_array_regularize.cpp#L19)",
     "output_type": "error",
     "traceback": [
      "\u001b[0;31m---------------------------------------------------------------------------\u001b[0m",
      "\u001b[0;31mIndexError\u001b[0m                                Traceback (most recent call last)",
      "Cell \u001b[0;32mIn[15], line 1\u001b[0m\n\u001b[0;32m----> 1\u001b[0m \u001b[43mds\u001b[49m\u001b[38;5;241;43m.\u001b[39;49m\u001b[43m_getitem_spliced\u001b[49m\u001b[43m(\u001b[49m\u001b[43m[\u001b[49m\u001b[38;5;241;43m1\u001b[39;49m\u001b[43m]\u001b[49m\u001b[43m)\u001b[49m[\u001b[38;5;241m0\u001b[39m]\u001b[38;5;241m.\u001b[39mview(\u001b[38;5;124m'\u001b[39m\u001b[38;5;124mS1\u001b[39m\u001b[38;5;124m'\u001b[39m)\n",
      "File \u001b[0;32m/carter/users/dlaub/projects/GenVarLoader/python/genvarloader/_dataset/__init__.py:1358\u001b[0m, in \u001b[0;36mDataset._getitem_spliced\u001b[0;34m(self, idx)\u001b[0m\n\u001b[1;32m   1344\u001b[0m new_lengths \u001b[38;5;241m=\u001b[39m np\u001b[38;5;241m.\u001b[39madd\u001b[38;5;241m.\u001b[39mreduceat(\n\u001b[1;32m   1345\u001b[0m     haps\u001b[38;5;241m.\u001b[39mlengths,\n\u001b[1;32m   1346\u001b[0m     _lengths_to_offsets(ak\u001b[38;5;241m.\u001b[39mcount(splice_idx, \u001b[38;5;241m-\u001b[39m\u001b[38;5;241m1\u001b[39m)\u001b[38;5;241m.\u001b[39mto_numpy())[:\u001b[38;5;241m-\u001b[39m\u001b[38;5;241m1\u001b[39m],\n\u001b[1;32m   1347\u001b[0m     axis\u001b[38;5;241m=\u001b[39m\u001b[38;5;241m0\u001b[39m,  \u001b[38;5;66;03m# this might not generalized to ndim indices\u001b[39;00m\n\u001b[1;32m   1348\u001b[0m )\n\u001b[1;32m   1349\u001b[0m b, p \u001b[38;5;241m=\u001b[39m [\n\u001b[1;32m   1350\u001b[0m     ak\u001b[38;5;241m.\u001b[39mflatten(a, axis\u001b[38;5;241m=\u001b[39m\u001b[38;5;28;01mNone\u001b[39;00m)\u001b[38;5;241m.\u001b[39mto_numpy()\n\u001b[1;32m   1351\u001b[0m     \u001b[38;5;28;01mfor\u001b[39;00m a \u001b[38;5;129;01min\u001b[39;00m ak\u001b[38;5;241m.\u001b[39mbroadcast_arrays(\n\u001b[0;32m   (...)\u001b[0m\n\u001b[1;32m   1354\u001b[0m     )\n\u001b[1;32m   1355\u001b[0m ]\n\u001b[1;32m   1357\u001b[0m haps \u001b[38;5;241m=\u001b[39m Ragged\u001b[38;5;241m.\u001b[39mfrom_lengths(\n\u001b[0;32m-> 1358\u001b[0m     ak\u001b[38;5;241m.\u001b[39mflatten(\u001b[43mhaps\u001b[49m\u001b[38;5;241;43m.\u001b[39;49m\u001b[43mto_awkward\u001b[49m\u001b[43m(\u001b[49m\u001b[43m)\u001b[49m\u001b[43m[\u001b[49m\u001b[43mb\u001b[49m\u001b[43m,\u001b[49m\u001b[43m \u001b[49m\u001b[43mp\u001b[49m\u001b[43m]\u001b[49m)\u001b[38;5;241m.\u001b[39mto_numpy()\u001b[38;5;241m.\u001b[39mview(\u001b[38;5;124m\"\u001b[39m\u001b[38;5;124mS1\u001b[39m\u001b[38;5;124m\"\u001b[39m), new_lengths\n\u001b[1;32m   1359\u001b[0m )\n\u001b[1;32m   1361\u001b[0m ragged_out\u001b[38;5;241m.\u001b[39mappend(haps)\n\u001b[1;32m   1362\u001b[0m \u001b[38;5;28;01mif\u001b[39;00m \u001b[38;5;28mself\u001b[39m\u001b[38;5;241m.\u001b[39mreturn_annotations:\n",
      "File \u001b[0;32m/carter/users/dlaub/projects/GenVarLoader/.pixi/envs/docs/lib/python3.12/site-packages/awkward/highlevel.py:1105\u001b[0m, in \u001b[0;36mArray.__getitem__\u001b[0;34m(self, where)\u001b[0m\n\u001b[1;32m    676\u001b[0m \u001b[38;5;28;01mdef\u001b[39;00m\u001b[38;5;250m \u001b[39m\u001b[38;5;21m__getitem__\u001b[39m(\u001b[38;5;28mself\u001b[39m, where):\n\u001b[1;32m    677\u001b[0m \u001b[38;5;250m    \u001b[39m\u001b[38;5;124;03m\"\"\"\u001b[39;00m\n\u001b[1;32m    678\u001b[0m \u001b[38;5;124;03m    Args:\u001b[39;00m\n\u001b[1;32m    679\u001b[0m \u001b[38;5;124;03m        where (many types supported; see below): Index of positions to\u001b[39;00m\n\u001b[0;32m   (...)\u001b[0m\n\u001b[1;32m   1103\u001b[0m \u001b[38;5;124;03m    have the same dimension as the array being indexed.\u001b[39;00m\n\u001b[1;32m   1104\u001b[0m \u001b[38;5;124;03m    \"\"\"\u001b[39;00m\n\u001b[0;32m-> 1105\u001b[0m     \u001b[38;5;28;01mwith\u001b[39;00m ak\u001b[38;5;241m.\u001b[39m_errors\u001b[38;5;241m.\u001b[39mSlicingErrorContext(\u001b[38;5;28mself\u001b[39m, where):\n\u001b[1;32m   1106\u001b[0m         \u001b[38;5;66;03m# Handle named axis\u001b[39;00m\n\u001b[1;32m   1107\u001b[0m         (_, ndim) \u001b[38;5;241m=\u001b[39m \u001b[38;5;28mself\u001b[39m\u001b[38;5;241m.\u001b[39m_layout\u001b[38;5;241m.\u001b[39mminmax_depth\n\u001b[1;32m   1108\u001b[0m         named_axis \u001b[38;5;241m=\u001b[39m _get_named_axis(\u001b[38;5;28mself\u001b[39m)\n",
      "File \u001b[0;32m/carter/users/dlaub/projects/GenVarLoader/.pixi/envs/docs/lib/python3.12/site-packages/awkward/_errors.py:80\u001b[0m, in \u001b[0;36mErrorContext.__exit__\u001b[0;34m(self, exception_type, exception_value, traceback)\u001b[0m\n\u001b[1;32m     78\u001b[0m     \u001b[38;5;28mself\u001b[39m\u001b[38;5;241m.\u001b[39m_slate\u001b[38;5;241m.\u001b[39m\u001b[38;5;18m__dict__\u001b[39m\u001b[38;5;241m.\u001b[39mclear()\n\u001b[1;32m     79\u001b[0m     \u001b[38;5;66;03m# Handle caught exception\u001b[39;00m\n\u001b[0;32m---> 80\u001b[0m     \u001b[38;5;28;01mraise\u001b[39;00m \u001b[38;5;28mself\u001b[39m\u001b[38;5;241m.\u001b[39mdecorate_exception(exception_type, exception_value)\n\u001b[1;32m     81\u001b[0m \u001b[38;5;28;01melse\u001b[39;00m:\n\u001b[1;32m     82\u001b[0m     \u001b[38;5;66;03m# Step out of the way so that another ErrorContext can become primary.\u001b[39;00m\n\u001b[1;32m     83\u001b[0m     \u001b[38;5;28;01mif\u001b[39;00m \u001b[38;5;28mself\u001b[39m\u001b[38;5;241m.\u001b[39mprimary() \u001b[38;5;129;01mis\u001b[39;00m \u001b[38;5;28mself\u001b[39m:\n",
      "File \u001b[0;32m/carter/users/dlaub/projects/GenVarLoader/.pixi/envs/docs/lib/python3.12/site-packages/awkward/highlevel.py:1113\u001b[0m, in \u001b[0;36mArray.__getitem__\u001b[0;34m(self, where)\u001b[0m\n\u001b[1;32m   1109\u001b[0m where \u001b[38;5;241m=\u001b[39m _normalize_named_slice(named_axis, where, ndim)\n\u001b[1;32m   1111\u001b[0m NamedAxis\u001b[38;5;241m.\u001b[39mmapping \u001b[38;5;241m=\u001b[39m named_axis\n\u001b[0;32m-> 1113\u001b[0m indexed_layout \u001b[38;5;241m=\u001b[39m prepare_layout(\u001b[38;5;28;43mself\u001b[39;49m\u001b[38;5;241;43m.\u001b[39;49m\u001b[43m_layout\u001b[49m\u001b[38;5;241;43m.\u001b[39;49m\u001b[43m_getitem\u001b[49m\u001b[43m(\u001b[49m\u001b[43mwhere\u001b[49m\u001b[43m,\u001b[49m\u001b[43m \u001b[49m\u001b[43mNamedAxis\u001b[49m\u001b[43m)\u001b[49m)\n\u001b[1;32m   1115\u001b[0m \u001b[38;5;28;01mif\u001b[39;00m NamedAxis\u001b[38;5;241m.\u001b[39mmapping:\n\u001b[1;32m   1116\u001b[0m     \u001b[38;5;28;01mreturn\u001b[39;00m ak\u001b[38;5;241m.\u001b[39moperations\u001b[38;5;241m.\u001b[39mak_with_named_axis\u001b[38;5;241m.\u001b[39m_impl(\n\u001b[1;32m   1117\u001b[0m         indexed_layout,\n\u001b[1;32m   1118\u001b[0m         named_axis\u001b[38;5;241m=\u001b[39mNamedAxis\u001b[38;5;241m.\u001b[39mmapping,\n\u001b[0;32m   (...)\u001b[0m\n\u001b[1;32m   1121\u001b[0m         attrs\u001b[38;5;241m=\u001b[39m\u001b[38;5;28mself\u001b[39m\u001b[38;5;241m.\u001b[39m_attrs,\n\u001b[1;32m   1122\u001b[0m     )\n",
      "File \u001b[0;32m/carter/users/dlaub/projects/GenVarLoader/.pixi/envs/docs/lib/python3.12/site-packages/awkward/contents/content.py:649\u001b[0m, in \u001b[0;36mContent._getitem\u001b[0;34m(self, where, named_axis)\u001b[0m\n\u001b[1;32m    640\u001b[0m named_axis\u001b[38;5;241m.\u001b[39mmapping \u001b[38;5;241m=\u001b[39m _named_axis\n\u001b[1;32m    642\u001b[0m \u001b[38;5;28mnext\u001b[39m \u001b[38;5;241m=\u001b[39m ak\u001b[38;5;241m.\u001b[39mcontents\u001b[38;5;241m.\u001b[39mRegularArray(\n\u001b[1;32m    643\u001b[0m     this,\n\u001b[1;32m    644\u001b[0m     this\u001b[38;5;241m.\u001b[39mlength,\n\u001b[1;32m    645\u001b[0m     \u001b[38;5;241m1\u001b[39m,\n\u001b[1;32m    646\u001b[0m     parameters\u001b[38;5;241m=\u001b[39m\u001b[38;5;28;01mNone\u001b[39;00m,\n\u001b[1;32m    647\u001b[0m )\n\u001b[0;32m--> 649\u001b[0m out \u001b[38;5;241m=\u001b[39m \u001b[38;5;28;43mnext\u001b[39;49m\u001b[38;5;241;43m.\u001b[39;49m\u001b[43m_getitem_next\u001b[49m\u001b[43m(\u001b[49m\u001b[43mnextwhere\u001b[49m\u001b[43m[\u001b[49m\u001b[38;5;241;43m0\u001b[39;49m\u001b[43m]\u001b[49m\u001b[43m,\u001b[49m\u001b[43m \u001b[49m\u001b[43mnextwhere\u001b[49m\u001b[43m[\u001b[49m\u001b[38;5;241;43m1\u001b[39;49m\u001b[43m:\u001b[49m\u001b[43m]\u001b[49m\u001b[43m,\u001b[49m\u001b[43m \u001b[49m\u001b[38;5;28;43;01mNone\u001b[39;49;00m\u001b[43m)\u001b[49m\n\u001b[1;32m    651\u001b[0m \u001b[38;5;28;01mif\u001b[39;00m out\u001b[38;5;241m.\u001b[39mlength \u001b[38;5;129;01mis\u001b[39;00m \u001b[38;5;129;01mnot\u001b[39;00m unknown_length \u001b[38;5;129;01mand\u001b[39;00m out\u001b[38;5;241m.\u001b[39mlength \u001b[38;5;241m==\u001b[39m \u001b[38;5;241m0\u001b[39m:\n\u001b[1;32m    652\u001b[0m     \u001b[38;5;28;01mreturn\u001b[39;00m out\u001b[38;5;241m.\u001b[39m_getitem_nothing()\n",
      "File \u001b[0;32m/carter/users/dlaub/projects/GenVarLoader/.pixi/envs/docs/lib/python3.12/site-packages/awkward/contents/regulararray.py:575\u001b[0m, in \u001b[0;36mRegularArray._getitem_next\u001b[0;34m(self, head, tail, advanced)\u001b[0m\n\u001b[1;32m    573\u001b[0m regular_flathead \u001b[38;5;241m=\u001b[39m ak\u001b[38;5;241m.\u001b[39mindex\u001b[38;5;241m.\u001b[39mIndex64\u001b[38;5;241m.\u001b[39mempty(flathead\u001b[38;5;241m.\u001b[39mshape[\u001b[38;5;241m0\u001b[39m], index_nplike)\n\u001b[1;32m    574\u001b[0m \u001b[38;5;28;01massert\u001b[39;00m regular_flathead\u001b[38;5;241m.\u001b[39mnplike \u001b[38;5;129;01mis\u001b[39;00m index_nplike\n\u001b[0;32m--> 575\u001b[0m \u001b[38;5;28;43mself\u001b[39;49m\u001b[38;5;241;43m.\u001b[39;49m\u001b[43m_maybe_index_error\u001b[49m\u001b[43m(\u001b[49m\n\u001b[1;32m    576\u001b[0m \u001b[43m    \u001b[49m\u001b[38;5;28;43mself\u001b[39;49m\u001b[38;5;241;43m.\u001b[39;49m\u001b[43m_backend\u001b[49m\u001b[43m[\u001b[49m\n\u001b[1;32m    577\u001b[0m \u001b[43m        \u001b[49m\u001b[38;5;124;43m\"\u001b[39;49m\u001b[38;5;124;43mawkward_RegularArray_getitem_next_array_regularize\u001b[39;49m\u001b[38;5;124;43m\"\u001b[39;49m\u001b[43m,\u001b[49m\n\u001b[1;32m    578\u001b[0m \u001b[43m        \u001b[49m\u001b[43mregular_flathead\u001b[49m\u001b[38;5;241;43m.\u001b[39;49m\u001b[43mdtype\u001b[49m\u001b[38;5;241;43m.\u001b[39;49m\u001b[43mtype\u001b[49m\u001b[43m,\u001b[49m\n\u001b[1;32m    579\u001b[0m \u001b[43m        \u001b[49m\u001b[43mflathead\u001b[49m\u001b[38;5;241;43m.\u001b[39;49m\u001b[43mdtype\u001b[49m\u001b[38;5;241;43m.\u001b[39;49m\u001b[43mtype\u001b[49m\u001b[43m,\u001b[49m\n\u001b[1;32m    580\u001b[0m \u001b[43m    \u001b[49m\u001b[43m]\u001b[49m\u001b[43m(\u001b[49m\n\u001b[1;32m    581\u001b[0m \u001b[43m        \u001b[49m\u001b[43mregular_flathead\u001b[49m\u001b[38;5;241;43m.\u001b[39;49m\u001b[43mdata\u001b[49m\u001b[43m,\u001b[49m\n\u001b[1;32m    582\u001b[0m \u001b[43m        \u001b[49m\u001b[43mflathead\u001b[49m\u001b[43m,\u001b[49m\n\u001b[1;32m    583\u001b[0m \u001b[43m        \u001b[49m\u001b[43mflathead\u001b[49m\u001b[38;5;241;43m.\u001b[39;49m\u001b[43mshape\u001b[49m\u001b[43m[\u001b[49m\u001b[38;5;241;43m0\u001b[39;49m\u001b[43m]\u001b[49m\u001b[43m,\u001b[49m\n\u001b[1;32m    584\u001b[0m \u001b[43m        \u001b[49m\u001b[38;5;28;43mself\u001b[39;49m\u001b[38;5;241;43m.\u001b[39;49m\u001b[43m_size\u001b[49m\u001b[43m,\u001b[49m\n\u001b[1;32m    585\u001b[0m \u001b[43m    \u001b[49m\u001b[43m)\u001b[49m\u001b[43m,\u001b[49m\n\u001b[1;32m    586\u001b[0m \u001b[43m    \u001b[49m\u001b[43mslicer\u001b[49m\u001b[38;5;241;43m=\u001b[39;49m\u001b[43mhead\u001b[49m\u001b[43m,\u001b[49m\n\u001b[1;32m    587\u001b[0m \u001b[43m\u001b[49m\u001b[43m)\u001b[49m\n\u001b[1;32m    589\u001b[0m nexthead, nexttail \u001b[38;5;241m=\u001b[39m ak\u001b[38;5;241m.\u001b[39m_slicing\u001b[38;5;241m.\u001b[39mhead_tail(tail)\n\u001b[1;32m    590\u001b[0m \u001b[38;5;28;01mif\u001b[39;00m advanced \u001b[38;5;129;01mis\u001b[39;00m \u001b[38;5;28;01mNone\u001b[39;00m \u001b[38;5;129;01mor\u001b[39;00m (\n\u001b[1;32m    591\u001b[0m     advanced\u001b[38;5;241m.\u001b[39mlength \u001b[38;5;129;01mis\u001b[39;00m \u001b[38;5;129;01mnot\u001b[39;00m unknown_length \u001b[38;5;129;01mand\u001b[39;00m advanced\u001b[38;5;241m.\u001b[39mlength \u001b[38;5;241m==\u001b[39m \u001b[38;5;241m0\u001b[39m\n\u001b[1;32m    592\u001b[0m ):\n",
      "File \u001b[0;32m/carter/users/dlaub/projects/GenVarLoader/.pixi/envs/docs/lib/python3.12/site-packages/awkward/contents/content.py:295\u001b[0m, in \u001b[0;36mContent._maybe_index_error\u001b[0;34m(self, error, slicer)\u001b[0m\n\u001b[1;32m    293\u001b[0m \u001b[38;5;28;01melse\u001b[39;00m:\n\u001b[1;32m    294\u001b[0m     message \u001b[38;5;241m=\u001b[39m \u001b[38;5;28mself\u001b[39m\u001b[38;5;241m.\u001b[39m_backend\u001b[38;5;241m.\u001b[39mformat_kernel_error(error)\n\u001b[0;32m--> 295\u001b[0m     \u001b[38;5;28;01mraise\u001b[39;00m ak\u001b[38;5;241m.\u001b[39m_errors\u001b[38;5;241m.\u001b[39mindex_error(\u001b[38;5;28mself\u001b[39m, slicer, message)\n",
      "\u001b[0;31mIndexError\u001b[0m: cannot slice RegularArray (of length 1) with [3]: index out of range while attempting to get index 3 (in compiled code: https://github.com/scikit-hep/awkward/blob/awkward-cpp-44/awkward-cpp/src/cpu-kernels/awkward_RegularArray_getitem_next_array_regularize.cpp#L19)",
      "\u001b[0m\nThis error occurred while attempting to slice\n\n    <Array [[[71, 67, 84, ..., 84, 67, 71], ...]] type='1 * 2 * var * uint8'>\n\nwith\n\n    (array([3], dtype=uint32), array([0]))"
     ]
    }
   ],
   "source": [
    "ds._getitem_spliced([1])[0].view(\"S1\")"
   ]
  }
 ],
 "metadata": {
  "kernelspec": {
   "display_name": "GVL Docs",
   "language": "python",
   "name": "gvl-docs"
  },
  "language_info": {
   "codemirror_mode": {
    "name": "ipython",
    "version": 3
   },
   "file_extension": ".py",
   "mimetype": "text/x-python",
   "name": "python",
   "nbconvert_exporter": "python",
   "pygments_lexer": "ipython3",
   "version": "3.12.8"
  }
 },
 "nbformat": 4,
 "nbformat_minor": 2
}
